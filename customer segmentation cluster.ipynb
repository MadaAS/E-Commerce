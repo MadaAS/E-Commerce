{
 "cells": [
  {
   "cell_type": "markdown",
   "metadata": {
    "_uuid": "656491fe8f78986811921636dcb345c8e1c136c5"
   },
   "source": [
    "**PART 1 : Analyze and Clean the dataset**\n",
    "\n",
    "*     Cleaning the data\n",
    "*     Exploratory analysis\n",
    "*     Feature engineering\n",
    "   \n",
    "    \n",
    "**PART 2 : Creating customer categories**\n",
    "\n",
    "*     Intermediate dataset grouped by invoices\n",
    "*     Final dataset grouped by customers \n",
    "*     K-means clustering\n",
    "*     Interpreting the clusters\n",
    "    \n",
    "    \n",
    " **PART 3 : Testing models for predicition**\n",
    " \n",
    "*      Classic sklearn models\n",
    "*      Random Forest\n",
    "*      XGBoost\n",
    " \n"
   ]
  },
  {
   "cell_type": "markdown",
   "metadata": {
    "_uuid": "db7832e5c330c89d8e3234ddcf765df8cb89e9a3"
   },
   "source": [
    "** PART 1 : ANALYSE AND CLEAN THE CLUSTERS **"
   ]
  },
  {
   "cell_type": "markdown",
   "metadata": {
    "_uuid": "f5e27eb3130f947276d276a1bfb83c0f2640c4e6"
   },
   "source": [
    "Importing the useful libraries"
   ]
  },
  {
   "cell_type": "code",
   "execution_count": 155,
   "metadata": {
    "_kg_hide-input": true,
    "_uuid": "bc8f2573c61bd8a8ef4dfb751c8a67c4f898adf2"
   },
   "outputs": [],
   "source": [
    "# Importation of useful libraries\n",
    "import pandas as pd\n",
    "import numpy as np\n",
    "\n",
    "import matplotlib.pyplot as plt\n",
    "import matplotlib.lines as mlines\n",
    "import seaborn as sns\n",
    "\n",
    "import random \n",
    "import datetime as dt\n",
    "import re\n",
    "import pickle\n",
    "import nltk, warnings\n",
    "from nltk.tokenize import sent_tokenize, word_tokenize\n",
    "from nltk.corpus import stopwords\n",
    "from nltk.stem import WordNetLemmatizer\n",
    "from string import digits, punctuation\n",
    "\n",
    "\n",
    "from scipy.stats import chi2_contingency\n",
    "\n",
    "from sklearn.preprocessing import LabelEncoder, StandardScaler, Normalizer\n",
    "from sklearn.preprocessing import StandardScaler\n",
    "from sklearn.cluster import KMeans\n",
    "from sklearn.metrics import silhouette_samples, silhouette_score\n",
    "from sklearn import preprocessing, model_selection, metrics, feature_selection\n",
    "from sklearn.model_selection import GridSearchCV, learning_curve\n",
    "from sklearn.svm import SVC\n",
    "from sklearn.metrics import confusion_matrix\n",
    "from sklearn import neighbors, linear_model, svm, tree, ensemble\n",
    "from sklearn.decomposition import PCA, TruncatedSVD\n",
    "from sklearn.manifold import TSNE\n",
    "from sklearn.feature_extraction.text import CountVectorizer, TfidfVectorizer\n",
    "\n",
    "from wordcloud import WordCloud, STOPWORDS\n",
    "\n",
    "warnings.filterwarnings(\"ignore\")\n",
    "plt.style.use('bmh')\n",
    "%matplotlib inline\n"
   ]
  },
  {
   "cell_type": "code",
   "execution_count": 156,
   "metadata": {},
   "outputs": [
    {
     "name": "stderr",
     "output_type": "stream",
     "text": [
      "[nltk_data] Downloading package stopwords to\n",
      "[nltk_data]     C:\\Users\\Adrian\\AppData\\Roaming\\nltk_data...\n",
      "[nltk_data]   Package stopwords is already up-to-date!\n"
     ]
    },
    {
     "data": {
      "text/plain": [
       "True"
      ]
     },
     "execution_count": 156,
     "metadata": {},
     "output_type": "execute_result"
    }
   ],
   "source": [
    "import nltk\n",
    "nltk.download('stopwords')"
   ]
  },
  {
   "cell_type": "markdown",
   "metadata": {
    "_uuid": "0b372d5e82e2df1b10aeffaa24098a94ccceb63c"
   },
   "source": [
    "**1.1 Cleaning the data**"
   ]
  },
  {
   "cell_type": "code",
   "execution_count": 157,
   "metadata": {
    "_uuid": "e73e72e929294d1eb73bd21aae78adc502a0d414"
   },
   "outputs": [],
   "source": [
    "# Importing the database \n",
    "\n",
    "data = pd.read_csv(\"data.csv\", encoding=\"ISO-8859-1\", dtype={'CustomerID': str,'InvoiceID': str})"
   ]
  },
  {
   "cell_type": "code",
   "execution_count": 158,
   "metadata": {
    "_uuid": "f45780aa3a27435052dd9ce1911bf14487cd2c70",
    "scrolled": true
   },
   "outputs": [
    {
     "data": {
      "text/html": [
       "<div>\n",
       "<style scoped>\n",
       "    .dataframe tbody tr th:only-of-type {\n",
       "        vertical-align: middle;\n",
       "    }\n",
       "\n",
       "    .dataframe tbody tr th {\n",
       "        vertical-align: top;\n",
       "    }\n",
       "\n",
       "    .dataframe thead th {\n",
       "        text-align: right;\n",
       "    }\n",
       "</style>\n",
       "<table border=\"1\" class=\"dataframe\">\n",
       "  <thead>\n",
       "    <tr style=\"text-align: right;\">\n",
       "      <th></th>\n",
       "      <th>InvoiceNo</th>\n",
       "      <th>StockCode</th>\n",
       "      <th>Description</th>\n",
       "      <th>Quantity</th>\n",
       "      <th>InvoiceDate</th>\n",
       "      <th>UnitPrice</th>\n",
       "      <th>CustomerID</th>\n",
       "      <th>Country</th>\n",
       "    </tr>\n",
       "  </thead>\n",
       "  <tbody>\n",
       "    <tr>\n",
       "      <th>0</th>\n",
       "      <td>536365</td>\n",
       "      <td>85123A</td>\n",
       "      <td>WHITE HANGING HEART T-LIGHT HOLDER</td>\n",
       "      <td>6</td>\n",
       "      <td>12/1/2010 8:26</td>\n",
       "      <td>2.55</td>\n",
       "      <td>17850</td>\n",
       "      <td>United Kingdom</td>\n",
       "    </tr>\n",
       "    <tr>\n",
       "      <th>1</th>\n",
       "      <td>536365</td>\n",
       "      <td>71053</td>\n",
       "      <td>WHITE METAL LANTERN</td>\n",
       "      <td>6</td>\n",
       "      <td>12/1/2010 8:26</td>\n",
       "      <td>3.39</td>\n",
       "      <td>17850</td>\n",
       "      <td>United Kingdom</td>\n",
       "    </tr>\n",
       "    <tr>\n",
       "      <th>2</th>\n",
       "      <td>536365</td>\n",
       "      <td>84406B</td>\n",
       "      <td>CREAM CUPID HEARTS COAT HANGER</td>\n",
       "      <td>8</td>\n",
       "      <td>12/1/2010 8:26</td>\n",
       "      <td>2.75</td>\n",
       "      <td>17850</td>\n",
       "      <td>United Kingdom</td>\n",
       "    </tr>\n",
       "    <tr>\n",
       "      <th>3</th>\n",
       "      <td>536365</td>\n",
       "      <td>84029G</td>\n",
       "      <td>KNITTED UNION FLAG HOT WATER BOTTLE</td>\n",
       "      <td>6</td>\n",
       "      <td>12/1/2010 8:26</td>\n",
       "      <td>3.39</td>\n",
       "      <td>17850</td>\n",
       "      <td>United Kingdom</td>\n",
       "    </tr>\n",
       "    <tr>\n",
       "      <th>4</th>\n",
       "      <td>536365</td>\n",
       "      <td>84029E</td>\n",
       "      <td>RED WOOLLY HOTTIE WHITE HEART.</td>\n",
       "      <td>6</td>\n",
       "      <td>12/1/2010 8:26</td>\n",
       "      <td>3.39</td>\n",
       "      <td>17850</td>\n",
       "      <td>United Kingdom</td>\n",
       "    </tr>\n",
       "  </tbody>\n",
       "</table>\n",
       "</div>"
      ],
      "text/plain": [
       "  InvoiceNo StockCode                          Description  Quantity  \\\n",
       "0    536365    85123A   WHITE HANGING HEART T-LIGHT HOLDER         6   \n",
       "1    536365     71053                  WHITE METAL LANTERN         6   \n",
       "2    536365    84406B       CREAM CUPID HEARTS COAT HANGER         8   \n",
       "3    536365    84029G  KNITTED UNION FLAG HOT WATER BOTTLE         6   \n",
       "4    536365    84029E       RED WOOLLY HOTTIE WHITE HEART.         6   \n",
       "\n",
       "      InvoiceDate  UnitPrice CustomerID         Country  \n",
       "0  12/1/2010 8:26       2.55      17850  United Kingdom  \n",
       "1  12/1/2010 8:26       3.39      17850  United Kingdom  \n",
       "2  12/1/2010 8:26       2.75      17850  United Kingdom  \n",
       "3  12/1/2010 8:26       3.39      17850  United Kingdom  \n",
       "4  12/1/2010 8:26       3.39      17850  United Kingdom  "
      ]
     },
     "execution_count": 158,
     "metadata": {},
     "output_type": "execute_result"
    }
   ],
   "source": [
    "data.head(5)"
   ]
  },
  {
   "cell_type": "code",
   "execution_count": 159,
   "metadata": {
    "_uuid": "3e9f313ae4854d14ba48713276d62314030ac5da"
   },
   "outputs": [
    {
     "name": "stdout",
     "output_type": "stream",
     "text": [
      "<class 'pandas.core.frame.DataFrame'>\n",
      "RangeIndex: 541909 entries, 0 to 541908\n",
      "Data columns (total 8 columns):\n",
      " #   Column       Non-Null Count   Dtype  \n",
      "---  ------       --------------   -----  \n",
      " 0   InvoiceNo    541909 non-null  object \n",
      " 1   StockCode    541909 non-null  object \n",
      " 2   Description  540455 non-null  object \n",
      " 3   Quantity     541909 non-null  int64  \n",
      " 4   InvoiceDate  541909 non-null  object \n",
      " 5   UnitPrice    541909 non-null  float64\n",
      " 6   CustomerID   406829 non-null  object \n",
      " 7   Country      541909 non-null  object \n",
      "dtypes: float64(1), int64(1), object(6)\n",
      "memory usage: 33.1+ MB\n"
     ]
    }
   ],
   "source": [
    "data.info()"
   ]
  },
  {
   "cell_type": "markdown",
   "metadata": {
    "_uuid": "e8ffbb4aa2df86ecb4e84cec0b56acd7c47fe51a"
   },
   "source": [
    "Let's take a look at the missing values"
   ]
  },
  {
   "cell_type": "code",
   "execution_count": 160,
   "metadata": {
    "_uuid": "fffddec2055e6b9a346c0e776b09309bff4a45c7"
   },
   "outputs": [
    {
     "data": {
      "text/plain": [
       "Text(0.5, 1.0, 'Ratio of missing values per columns')"
      ]
     },
     "execution_count": 160,
     "metadata": {},
     "output_type": "execute_result"
    },
    {
     "data": {
      "image/png": "[encoded data removed]",
      "text/plain": [
       "<Figure size 360x360 with 1 Axes>"
      ]
     },
     "metadata": {
      "needs_background": "light"
     },
     "output_type": "display_data"
    }
   ],
   "source": [
    "plt.figure(figsize=(5, 5))\n",
    "data.isnull().mean(axis=0).plot.barh()\n",
    "plt.title(\"Ratio of missing values per columns\")"
   ]
  },
  {
   "cell_type": "markdown",
   "metadata": {
    "_uuid": "af81397cd293e45483fbdc48ea5c39822dde8525"
   },
   "source": [
    "Let's go deeper in these missing values"
   ]
  },
  {
   "cell_type": "code",
   "execution_count": 161,
   "metadata": {
    "_uuid": "c149d0211987add9869c563ee03ad843f2ce6431"
   },
   "outputs": [
    {
     "data": {
      "text/html": [
       "<div>\n",
       "<style scoped>\n",
       "    .dataframe tbody tr th:only-of-type {\n",
       "        vertical-align: middle;\n",
       "    }\n",
       "\n",
       "    .dataframe tbody tr th {\n",
       "        vertical-align: top;\n",
       "    }\n",
       "\n",
       "    .dataframe thead th {\n",
       "        text-align: right;\n",
       "    }\n",
       "</style>\n",
       "<table border=\"1\" class=\"dataframe\">\n",
       "  <thead>\n",
       "    <tr style=\"text-align: right;\">\n",
       "      <th></th>\n",
       "      <th>InvoiceNo</th>\n",
       "      <th>StockCode</th>\n",
       "      <th>Description</th>\n",
       "      <th>Quantity</th>\n",
       "      <th>InvoiceDate</th>\n",
       "      <th>UnitPrice</th>\n",
       "      <th>CustomerID</th>\n",
       "      <th>Country</th>\n",
       "    </tr>\n",
       "  </thead>\n",
       "  <tbody>\n",
       "    <tr>\n",
       "      <th>622</th>\n",
       "      <td>536414</td>\n",
       "      <td>22139</td>\n",
       "      <td>NaN</td>\n",
       "      <td>56</td>\n",
       "      <td>12/1/2010 11:52</td>\n",
       "      <td>0.00</td>\n",
       "      <td>NaN</td>\n",
       "      <td>United Kingdom</td>\n",
       "    </tr>\n",
       "    <tr>\n",
       "      <th>1443</th>\n",
       "      <td>536544</td>\n",
       "      <td>21773</td>\n",
       "      <td>DECORATIVE ROSE BATHROOM BOTTLE</td>\n",
       "      <td>1</td>\n",
       "      <td>12/1/2010 14:32</td>\n",
       "      <td>2.51</td>\n",
       "      <td>NaN</td>\n",
       "      <td>United Kingdom</td>\n",
       "    </tr>\n",
       "    <tr>\n",
       "      <th>1444</th>\n",
       "      <td>536544</td>\n",
       "      <td>21774</td>\n",
       "      <td>DECORATIVE CATS BATHROOM BOTTLE</td>\n",
       "      <td>2</td>\n",
       "      <td>12/1/2010 14:32</td>\n",
       "      <td>2.51</td>\n",
       "      <td>NaN</td>\n",
       "      <td>United Kingdom</td>\n",
       "    </tr>\n",
       "    <tr>\n",
       "      <th>1445</th>\n",
       "      <td>536544</td>\n",
       "      <td>21786</td>\n",
       "      <td>POLKADOT RAIN HAT</td>\n",
       "      <td>4</td>\n",
       "      <td>12/1/2010 14:32</td>\n",
       "      <td>0.85</td>\n",
       "      <td>NaN</td>\n",
       "      <td>United Kingdom</td>\n",
       "    </tr>\n",
       "    <tr>\n",
       "      <th>1446</th>\n",
       "      <td>536544</td>\n",
       "      <td>21787</td>\n",
       "      <td>RAIN PONCHO RETROSPOT</td>\n",
       "      <td>2</td>\n",
       "      <td>12/1/2010 14:32</td>\n",
       "      <td>1.66</td>\n",
       "      <td>NaN</td>\n",
       "      <td>United Kingdom</td>\n",
       "    </tr>\n",
       "  </tbody>\n",
       "</table>\n",
       "</div>"
      ],
      "text/plain": [
       "     InvoiceNo StockCode                      Description  Quantity  \\\n",
       "622     536414     22139                              NaN        56   \n",
       "1443    536544     21773  DECORATIVE ROSE BATHROOM BOTTLE         1   \n",
       "1444    536544     21774  DECORATIVE CATS BATHROOM BOTTLE         2   \n",
       "1445    536544     21786               POLKADOT RAIN HAT          4   \n",
       "1446    536544     21787            RAIN PONCHO RETROSPOT         2   \n",
       "\n",
       "          InvoiceDate  UnitPrice CustomerID         Country  \n",
       "622   12/1/2010 11:52       0.00        NaN  United Kingdom  \n",
       "1443  12/1/2010 14:32       2.51        NaN  United Kingdom  \n",
       "1444  12/1/2010 14:32       2.51        NaN  United Kingdom  \n",
       "1445  12/1/2010 14:32       0.85        NaN  United Kingdom  \n",
       "1446  12/1/2010 14:32       1.66        NaN  United Kingdom  "
      ]
     },
     "execution_count": 161,
     "metadata": {},
     "output_type": "execute_result"
    }
   ],
   "source": [
    "nan_rows = data[data.isnull().T.any().T]\n",
    "nan_rows.head(5)"
   ]
  },
  {
   "cell_type": "markdown",
   "metadata": {
    "_uuid": "151e9db94bd1c68272c1d37608fc0448c9406661"
   },
   "source": [
    "Since the missing values are only in the CustomerID column and the description column, we could try to look at the InvoiceNo and see if maybe we can find the Customer ID"
   ]
  },
  {
   "cell_type": "code",
   "execution_count": 162,
   "metadata": {
    "_uuid": "e1f2c8f2a834c738acb94883fb72d97abbe99b80"
   },
   "outputs": [
    {
     "data": {
      "text/html": [
       "<div>\n",
       "<style scoped>\n",
       "    .dataframe tbody tr th:only-of-type {\n",
       "        vertical-align: middle;\n",
       "    }\n",
       "\n",
       "    .dataframe tbody tr th {\n",
       "        vertical-align: top;\n",
       "    }\n",
       "\n",
       "    .dataframe thead th {\n",
       "        text-align: right;\n",
       "    }\n",
       "</style>\n",
       "<table border=\"1\" class=\"dataframe\">\n",
       "  <thead>\n",
       "    <tr style=\"text-align: right;\">\n",
       "      <th></th>\n",
       "      <th>InvoiceNo</th>\n",
       "      <th>StockCode</th>\n",
       "      <th>Description</th>\n",
       "      <th>Quantity</th>\n",
       "      <th>InvoiceDate</th>\n",
       "      <th>UnitPrice</th>\n",
       "      <th>CustomerID</th>\n",
       "      <th>Country</th>\n",
       "    </tr>\n",
       "  </thead>\n",
       "  <tbody>\n",
       "    <tr>\n",
       "      <th>622</th>\n",
       "      <td>536414</td>\n",
       "      <td>22139</td>\n",
       "      <td>NaN</td>\n",
       "      <td>56</td>\n",
       "      <td>12/1/2010 11:52</td>\n",
       "      <td>0.0</td>\n",
       "      <td>NaN</td>\n",
       "      <td>United Kingdom</td>\n",
       "    </tr>\n",
       "  </tbody>\n",
       "</table>\n",
       "</div>"
      ],
      "text/plain": [
       "    InvoiceNo StockCode Description  Quantity      InvoiceDate  UnitPrice  \\\n",
       "622    536414     22139         NaN        56  12/1/2010 11:52        0.0   \n",
       "\n",
       "    CustomerID         Country  \n",
       "622        NaN  United Kingdom  "
      ]
     },
     "execution_count": 162,
     "metadata": {},
     "output_type": "execute_result"
    }
   ],
   "source": [
    "data[data['InvoiceNo']== '536414']"
   ]
  },
  {
   "cell_type": "code",
   "execution_count": 163,
   "metadata": {
    "_uuid": "eb8c46d93bfbeaa529c5cded5823298c45780101",
    "scrolled": true
   },
   "outputs": [
    {
     "data": {
      "text/html": [
       "<div>\n",
       "<style scoped>\n",
       "    .dataframe tbody tr th:only-of-type {\n",
       "        vertical-align: middle;\n",
       "    }\n",
       "\n",
       "    .dataframe tbody tr th {\n",
       "        vertical-align: top;\n",
       "    }\n",
       "\n",
       "    .dataframe thead th {\n",
       "        text-align: right;\n",
       "    }\n",
       "</style>\n",
       "<table border=\"1\" class=\"dataframe\">\n",
       "  <thead>\n",
       "    <tr style=\"text-align: right;\">\n",
       "      <th></th>\n",
       "      <th>InvoiceNo</th>\n",
       "      <th>StockCode</th>\n",
       "      <th>Description</th>\n",
       "      <th>Quantity</th>\n",
       "      <th>InvoiceDate</th>\n",
       "      <th>UnitPrice</th>\n",
       "      <th>CustomerID</th>\n",
       "      <th>Country</th>\n",
       "    </tr>\n",
       "  </thead>\n",
       "  <tbody>\n",
       "    <tr>\n",
       "      <th>1443</th>\n",
       "      <td>536544</td>\n",
       "      <td>21773</td>\n",
       "      <td>DECORATIVE ROSE BATHROOM BOTTLE</td>\n",
       "      <td>1</td>\n",
       "      <td>12/1/2010 14:32</td>\n",
       "      <td>2.51</td>\n",
       "      <td>NaN</td>\n",
       "      <td>United Kingdom</td>\n",
       "    </tr>\n",
       "    <tr>\n",
       "      <th>1444</th>\n",
       "      <td>536544</td>\n",
       "      <td>21774</td>\n",
       "      <td>DECORATIVE CATS BATHROOM BOTTLE</td>\n",
       "      <td>2</td>\n",
       "      <td>12/1/2010 14:32</td>\n",
       "      <td>2.51</td>\n",
       "      <td>NaN</td>\n",
       "      <td>United Kingdom</td>\n",
       "    </tr>\n",
       "    <tr>\n",
       "      <th>1445</th>\n",
       "      <td>536544</td>\n",
       "      <td>21786</td>\n",
       "      <td>POLKADOT RAIN HAT</td>\n",
       "      <td>4</td>\n",
       "      <td>12/1/2010 14:32</td>\n",
       "      <td>0.85</td>\n",
       "      <td>NaN</td>\n",
       "      <td>United Kingdom</td>\n",
       "    </tr>\n",
       "    <tr>\n",
       "      <th>1446</th>\n",
       "      <td>536544</td>\n",
       "      <td>21787</td>\n",
       "      <td>RAIN PONCHO RETROSPOT</td>\n",
       "      <td>2</td>\n",
       "      <td>12/1/2010 14:32</td>\n",
       "      <td>1.66</td>\n",
       "      <td>NaN</td>\n",
       "      <td>United Kingdom</td>\n",
       "    </tr>\n",
       "    <tr>\n",
       "      <th>1447</th>\n",
       "      <td>536544</td>\n",
       "      <td>21790</td>\n",
       "      <td>VINTAGE SNAP CARDS</td>\n",
       "      <td>9</td>\n",
       "      <td>12/1/2010 14:32</td>\n",
       "      <td>1.66</td>\n",
       "      <td>NaN</td>\n",
       "      <td>United Kingdom</td>\n",
       "    </tr>\n",
       "  </tbody>\n",
       "</table>\n",
       "</div>"
      ],
      "text/plain": [
       "     InvoiceNo StockCode                      Description  Quantity  \\\n",
       "1443    536544     21773  DECORATIVE ROSE BATHROOM BOTTLE         1   \n",
       "1444    536544     21774  DECORATIVE CATS BATHROOM BOTTLE         2   \n",
       "1445    536544     21786               POLKADOT RAIN HAT          4   \n",
       "1446    536544     21787            RAIN PONCHO RETROSPOT         2   \n",
       "1447    536544     21790               VINTAGE SNAP CARDS         9   \n",
       "\n",
       "          InvoiceDate  UnitPrice CustomerID         Country  \n",
       "1443  12/1/2010 14:32       2.51        NaN  United Kingdom  \n",
       "1444  12/1/2010 14:32       2.51        NaN  United Kingdom  \n",
       "1445  12/1/2010 14:32       0.85        NaN  United Kingdom  \n",
       "1446  12/1/2010 14:32       1.66        NaN  United Kingdom  \n",
       "1447  12/1/2010 14:32       1.66        NaN  United Kingdom  "
      ]
     },
     "execution_count": 163,
     "metadata": {},
     "output_type": "execute_result"
    }
   ],
   "source": [
    "data[data['InvoiceNo']== '536544'][:5]"
   ]
  },
  {
   "cell_type": "markdown",
   "metadata": {
    "_uuid": "8a44224a888f9a2fecbe65ad11aac270c7b6ee2c"
   },
   "source": [
    "It appears that we can't replace the missing values and we can't keep data without the value in the customer id columns since we want to classify the customers. So I'll drop the lines with missing values on the customer ID column."
   ]
  },
  {
   "cell_type": "code",
   "execution_count": 164,
   "metadata": {
    "_uuid": "0cb0d8865e7e8b795b057c5b427aac7bf52863f4"
   },
   "outputs": [],
   "source": [
    "data = data.dropna(subset=[\"CustomerID\"])"
   ]
  },
  {
   "cell_type": "code",
   "execution_count": 165,
   "metadata": {
    "_kg_hide-input": true,
    "_uuid": "5e0590d288d8cb1f12d6138dd828795cf7d62413"
   },
   "outputs": [
    {
     "data": {
      "text/plain": [
       "Text(0.5, 1.0, 'Ratio of missing values per columns')"
      ]
     },
     "execution_count": 165,
     "metadata": {},
     "output_type": "execute_result"
    },
    {
     "data": {
      "image/png": "[encoded data removed]",
      "text/plain": [
       "<Figure size 360x360 with 1 Axes>"
      ]
     },
     "metadata": {
      "needs_background": "light"
     },
     "output_type": "display_data"
    }
   ],
   "source": [
    "plt.figure(figsize=(5, 5))\n",
    "data.isnull().mean(axis=0).plot.barh()\n",
    "plt.title(\"Ratio of missing values per columns\")"
   ]
  },
  {
   "cell_type": "markdown",
   "metadata": {
    "_uuid": "ac5d2cf53a3bf592b4de40a4603cd2f871011670"
   },
   "source": [
    "There are no more missing values.\n",
    "I'll now check the dupplicate values and drop them if there's any. "
   ]
  },
  {
   "cell_type": "code",
   "execution_count": 166,
   "metadata": {
    "_uuid": "be192fb4614ca9c6e0c56bd5e1400abce96bb916"
   },
   "outputs": [
    {
     "name": "stdout",
     "output_type": "stream",
     "text": [
      "Dupplicate entries: 5225\n"
     ]
    }
   ],
   "source": [
    "print('Dupplicate entries: {}'.format(data.duplicated().sum()))\n",
    "data.drop_duplicates(inplace = True)"
   ]
  },
  {
   "cell_type": "markdown",
   "metadata": {
    "_uuid": "0869dfd28b3c5a7c0c39c026d73c1828ae7efbeb"
   },
   "source": [
    "**1.2 Exploratory Analysis**"
   ]
  },
  {
   "cell_type": "markdown",
   "metadata": {
    "_uuid": "61d359973579a565aa0ddce985032f248a6db322"
   },
   "source": [
    "**1.2.1 Countries**"
   ]
  },
  {
   "cell_type": "code",
   "execution_count": 167,
   "metadata": {
    "_uuid": "39e96bc6ea9a68cd27096ae2131e7c26bdfb63b2"
   },
   "outputs": [
    {
     "data": {
      "text/plain": [
       "37"
      ]
     },
     "execution_count": 167,
     "metadata": {},
     "output_type": "execute_result"
    }
   ],
   "source": [
    "data.Country.nunique()"
   ]
  },
  {
   "cell_type": "code",
   "execution_count": 168,
   "metadata": {
    "_uuid": "b57c057182ad0faebaf555b65cc76a205cac7f75"
   },
   "outputs": [
    {
     "data": {
      "text/html": [
       "<div>\n",
       "<style scoped>\n",
       "    .dataframe tbody tr th:only-of-type {\n",
       "        vertical-align: middle;\n",
       "    }\n",
       "\n",
       "    .dataframe tbody tr th {\n",
       "        vertical-align: top;\n",
       "    }\n",
       "\n",
       "    .dataframe thead th {\n",
       "        text-align: right;\n",
       "    }\n",
       "</style>\n",
       "<table border=\"1\" class=\"dataframe\">\n",
       "  <thead>\n",
       "    <tr style=\"text-align: right;\">\n",
       "      <th></th>\n",
       "      <th>Country</th>\n",
       "      <th>CustomerID</th>\n",
       "    </tr>\n",
       "  </thead>\n",
       "  <tbody>\n",
       "    <tr>\n",
       "      <th>35</th>\n",
       "      <td>United Kingdom</td>\n",
       "      <td>3950</td>\n",
       "    </tr>\n",
       "    <tr>\n",
       "      <th>14</th>\n",
       "      <td>Germany</td>\n",
       "      <td>95</td>\n",
       "    </tr>\n",
       "    <tr>\n",
       "      <th>13</th>\n",
       "      <td>France</td>\n",
       "      <td>87</td>\n",
       "    </tr>\n",
       "    <tr>\n",
       "      <th>30</th>\n",
       "      <td>Spain</td>\n",
       "      <td>31</td>\n",
       "    </tr>\n",
       "    <tr>\n",
       "      <th>3</th>\n",
       "      <td>Belgium</td>\n",
       "      <td>25</td>\n",
       "    </tr>\n",
       "    <tr>\n",
       "      <th>32</th>\n",
       "      <td>Switzerland</td>\n",
       "      <td>21</td>\n",
       "    </tr>\n",
       "    <tr>\n",
       "      <th>26</th>\n",
       "      <td>Portugal</td>\n",
       "      <td>19</td>\n",
       "    </tr>\n",
       "    <tr>\n",
       "      <th>18</th>\n",
       "      <td>Italy</td>\n",
       "      <td>15</td>\n",
       "    </tr>\n",
       "    <tr>\n",
       "      <th>12</th>\n",
       "      <td>Finland</td>\n",
       "      <td>12</td>\n",
       "    </tr>\n",
       "    <tr>\n",
       "      <th>1</th>\n",
       "      <td>Austria</td>\n",
       "      <td>11</td>\n",
       "    </tr>\n",
       "    <tr>\n",
       "      <th>24</th>\n",
       "      <td>Norway</td>\n",
       "      <td>10</td>\n",
       "    </tr>\n",
       "    <tr>\n",
       "      <th>23</th>\n",
       "      <td>Netherlands</td>\n",
       "      <td>9</td>\n",
       "    </tr>\n",
       "    <tr>\n",
       "      <th>0</th>\n",
       "      <td>Australia</td>\n",
       "      <td>9</td>\n",
       "    </tr>\n",
       "    <tr>\n",
       "      <th>9</th>\n",
       "      <td>Denmark</td>\n",
       "      <td>9</td>\n",
       "    </tr>\n",
       "    <tr>\n",
       "      <th>6</th>\n",
       "      <td>Channel Islands</td>\n",
       "      <td>9</td>\n",
       "    </tr>\n",
       "    <tr>\n",
       "      <th>7</th>\n",
       "      <td>Cyprus</td>\n",
       "      <td>8</td>\n",
       "    </tr>\n",
       "    <tr>\n",
       "      <th>31</th>\n",
       "      <td>Sweden</td>\n",
       "      <td>8</td>\n",
       "    </tr>\n",
       "    <tr>\n",
       "      <th>19</th>\n",
       "      <td>Japan</td>\n",
       "      <td>8</td>\n",
       "    </tr>\n",
       "    <tr>\n",
       "      <th>25</th>\n",
       "      <td>Poland</td>\n",
       "      <td>6</td>\n",
       "    </tr>\n",
       "    <tr>\n",
       "      <th>33</th>\n",
       "      <td>USA</td>\n",
       "      <td>4</td>\n",
       "    </tr>\n",
       "    <tr>\n",
       "      <th>5</th>\n",
       "      <td>Canada</td>\n",
       "      <td>4</td>\n",
       "    </tr>\n",
       "    <tr>\n",
       "      <th>36</th>\n",
       "      <td>Unspecified</td>\n",
       "      <td>4</td>\n",
       "    </tr>\n",
       "    <tr>\n",
       "      <th>17</th>\n",
       "      <td>Israel</td>\n",
       "      <td>4</td>\n",
       "    </tr>\n",
       "    <tr>\n",
       "      <th>15</th>\n",
       "      <td>Greece</td>\n",
       "      <td>4</td>\n",
       "    </tr>\n",
       "    <tr>\n",
       "      <th>10</th>\n",
       "      <td>EIRE</td>\n",
       "      <td>3</td>\n",
       "    </tr>\n",
       "    <tr>\n",
       "      <th>22</th>\n",
       "      <td>Malta</td>\n",
       "      <td>2</td>\n",
       "    </tr>\n",
       "    <tr>\n",
       "      <th>34</th>\n",
       "      <td>United Arab Emirates</td>\n",
       "      <td>2</td>\n",
       "    </tr>\n",
       "    <tr>\n",
       "      <th>2</th>\n",
       "      <td>Bahrain</td>\n",
       "      <td>2</td>\n",
       "    </tr>\n",
       "    <tr>\n",
       "      <th>8</th>\n",
       "      <td>Czech Republic</td>\n",
       "      <td>1</td>\n",
       "    </tr>\n",
       "    <tr>\n",
       "      <th>21</th>\n",
       "      <td>Lithuania</td>\n",
       "      <td>1</td>\n",
       "    </tr>\n",
       "    <tr>\n",
       "      <th>20</th>\n",
       "      <td>Lebanon</td>\n",
       "      <td>1</td>\n",
       "    </tr>\n",
       "    <tr>\n",
       "      <th>27</th>\n",
       "      <td>RSA</td>\n",
       "      <td>1</td>\n",
       "    </tr>\n",
       "    <tr>\n",
       "      <th>28</th>\n",
       "      <td>Saudi Arabia</td>\n",
       "      <td>1</td>\n",
       "    </tr>\n",
       "    <tr>\n",
       "      <th>29</th>\n",
       "      <td>Singapore</td>\n",
       "      <td>1</td>\n",
       "    </tr>\n",
       "    <tr>\n",
       "      <th>16</th>\n",
       "      <td>Iceland</td>\n",
       "      <td>1</td>\n",
       "    </tr>\n",
       "    <tr>\n",
       "      <th>4</th>\n",
       "      <td>Brazil</td>\n",
       "      <td>1</td>\n",
       "    </tr>\n",
       "    <tr>\n",
       "      <th>11</th>\n",
       "      <td>European Community</td>\n",
       "      <td>1</td>\n",
       "    </tr>\n",
       "  </tbody>\n",
       "</table>\n",
       "</div>"
      ],
      "text/plain": [
       "                 Country  CustomerID\n",
       "35        United Kingdom        3950\n",
       "14               Germany          95\n",
       "13                France          87\n",
       "30                 Spain          31\n",
       "3                Belgium          25\n",
       "32           Switzerland          21\n",
       "26              Portugal          19\n",
       "18                 Italy          15\n",
       "12               Finland          12\n",
       "1                Austria          11\n",
       "24                Norway          10\n",
       "23           Netherlands           9\n",
       "0              Australia           9\n",
       "9                Denmark           9\n",
       "6        Channel Islands           9\n",
       "7                 Cyprus           8\n",
       "31                Sweden           8\n",
       "19                 Japan           8\n",
       "25                Poland           6\n",
       "33                   USA           4\n",
       "5                 Canada           4\n",
       "36           Unspecified           4\n",
       "17                Israel           4\n",
       "15                Greece           4\n",
       "10                  EIRE           3\n",
       "22                 Malta           2\n",
       "34  United Arab Emirates           2\n",
       "2                Bahrain           2\n",
       "8         Czech Republic           1\n",
       "21             Lithuania           1\n",
       "20               Lebanon           1\n",
       "27                   RSA           1\n",
       "28          Saudi Arabia           1\n",
       "29             Singapore           1\n",
       "16               Iceland           1\n",
       "4                 Brazil           1\n",
       "11    European Community           1"
      ]
     },
     "execution_count": 168,
     "metadata": {},
     "output_type": "execute_result"
    }
   ],
   "source": [
    "customer_country=data[['Country','CustomerID']].drop_duplicates()\n",
    "customer_country.groupby(['Country'])['CustomerID'].aggregate('count').reset_index().sort_values('CustomerID', ascending=False)"
   ]
  },
  {
   "cell_type": "markdown",
   "metadata": {
    "_uuid": "3d71fcd8de3fa511888fb882084e169018789cab"
   },
   "source": [
    "More than 90% of the data is coming from UK ! "
   ]
  },
  {
   "cell_type": "markdown",
   "metadata": {
    "_uuid": "47bf435a23e2014ff13830e02ddbe1c2f4365cb3"
   },
   "source": [
    "**1.2.2 Quantity**"
   ]
  },
  {
   "cell_type": "code",
   "execution_count": 169,
   "metadata": {
    "_uuid": "788ce009878bbfe10546ac07919a60c13cbe38fd"
   },
   "outputs": [
    {
     "data": {
      "text/html": [
       "<div>\n",
       "<style scoped>\n",
       "    .dataframe tbody tr th:only-of-type {\n",
       "        vertical-align: middle;\n",
       "    }\n",
       "\n",
       "    .dataframe tbody tr th {\n",
       "        vertical-align: top;\n",
       "    }\n",
       "\n",
       "    .dataframe thead th {\n",
       "        text-align: right;\n",
       "    }\n",
       "</style>\n",
       "<table border=\"1\" class=\"dataframe\">\n",
       "  <thead>\n",
       "    <tr style=\"text-align: right;\">\n",
       "      <th></th>\n",
       "      <th>Quantity</th>\n",
       "      <th>UnitPrice</th>\n",
       "    </tr>\n",
       "  </thead>\n",
       "  <tbody>\n",
       "    <tr>\n",
       "      <th>count</th>\n",
       "      <td>401604.000000</td>\n",
       "      <td>401604.000000</td>\n",
       "    </tr>\n",
       "    <tr>\n",
       "      <th>mean</th>\n",
       "      <td>12.183273</td>\n",
       "      <td>3.474064</td>\n",
       "    </tr>\n",
       "    <tr>\n",
       "      <th>std</th>\n",
       "      <td>250.283037</td>\n",
       "      <td>69.764035</td>\n",
       "    </tr>\n",
       "    <tr>\n",
       "      <th>min</th>\n",
       "      <td>-80995.000000</td>\n",
       "      <td>0.000000</td>\n",
       "    </tr>\n",
       "    <tr>\n",
       "      <th>25%</th>\n",
       "      <td>2.000000</td>\n",
       "      <td>1.250000</td>\n",
       "    </tr>\n",
       "    <tr>\n",
       "      <th>50%</th>\n",
       "      <td>5.000000</td>\n",
       "      <td>1.950000</td>\n",
       "    </tr>\n",
       "    <tr>\n",
       "      <th>75%</th>\n",
       "      <td>12.000000</td>\n",
       "      <td>3.750000</td>\n",
       "    </tr>\n",
       "    <tr>\n",
       "      <th>max</th>\n",
       "      <td>80995.000000</td>\n",
       "      <td>38970.000000</td>\n",
       "    </tr>\n",
       "  </tbody>\n",
       "</table>\n",
       "</div>"
      ],
      "text/plain": [
       "            Quantity      UnitPrice\n",
       "count  401604.000000  401604.000000\n",
       "mean       12.183273       3.474064\n",
       "std       250.283037      69.764035\n",
       "min    -80995.000000       0.000000\n",
       "25%         2.000000       1.250000\n",
       "50%         5.000000       1.950000\n",
       "75%        12.000000       3.750000\n",
       "max     80995.000000   38970.000000"
      ]
     },
     "execution_count": 169,
     "metadata": {},
     "output_type": "execute_result"
    }
   ],
   "source": [
    "data.describe()"
   ]
  },
  {
   "cell_type": "code",
   "execution_count": 170,
   "metadata": {
    "_uuid": "bbef7b8d321306352d89a30143baf0c9c16c3042"
   },
   "outputs": [
    {
     "data": {
      "text/html": [
       "<div>\n",
       "<style scoped>\n",
       "    .dataframe tbody tr th:only-of-type {\n",
       "        vertical-align: middle;\n",
       "    }\n",
       "\n",
       "    .dataframe tbody tr th {\n",
       "        vertical-align: top;\n",
       "    }\n",
       "\n",
       "    .dataframe thead th {\n",
       "        text-align: right;\n",
       "    }\n",
       "</style>\n",
       "<table border=\"1\" class=\"dataframe\">\n",
       "  <thead>\n",
       "    <tr style=\"text-align: right;\">\n",
       "      <th></th>\n",
       "      <th>InvoiceNo</th>\n",
       "      <th>StockCode</th>\n",
       "      <th>Description</th>\n",
       "      <th>Quantity</th>\n",
       "      <th>InvoiceDate</th>\n",
       "      <th>UnitPrice</th>\n",
       "      <th>CustomerID</th>\n",
       "      <th>Country</th>\n",
       "    </tr>\n",
       "  </thead>\n",
       "  <tbody>\n",
       "    <tr>\n",
       "      <th>141</th>\n",
       "      <td>C536379</td>\n",
       "      <td>D</td>\n",
       "      <td>Discount</td>\n",
       "      <td>-1</td>\n",
       "      <td>12/1/2010 9:41</td>\n",
       "      <td>27.50</td>\n",
       "      <td>14527</td>\n",
       "      <td>United Kingdom</td>\n",
       "    </tr>\n",
       "    <tr>\n",
       "      <th>154</th>\n",
       "      <td>C536383</td>\n",
       "      <td>35004C</td>\n",
       "      <td>SET OF 3 COLOURED  FLYING DUCKS</td>\n",
       "      <td>-1</td>\n",
       "      <td>12/1/2010 9:49</td>\n",
       "      <td>4.65</td>\n",
       "      <td>15311</td>\n",
       "      <td>United Kingdom</td>\n",
       "    </tr>\n",
       "    <tr>\n",
       "      <th>235</th>\n",
       "      <td>C536391</td>\n",
       "      <td>22556</td>\n",
       "      <td>PLASTERS IN TIN CIRCUS PARADE</td>\n",
       "      <td>-12</td>\n",
       "      <td>12/1/2010 10:24</td>\n",
       "      <td>1.65</td>\n",
       "      <td>17548</td>\n",
       "      <td>United Kingdom</td>\n",
       "    </tr>\n",
       "    <tr>\n",
       "      <th>236</th>\n",
       "      <td>C536391</td>\n",
       "      <td>21984</td>\n",
       "      <td>PACK OF 12 PINK PAISLEY TISSUES</td>\n",
       "      <td>-24</td>\n",
       "      <td>12/1/2010 10:24</td>\n",
       "      <td>0.29</td>\n",
       "      <td>17548</td>\n",
       "      <td>United Kingdom</td>\n",
       "    </tr>\n",
       "    <tr>\n",
       "      <th>237</th>\n",
       "      <td>C536391</td>\n",
       "      <td>21983</td>\n",
       "      <td>PACK OF 12 BLUE PAISLEY TISSUES</td>\n",
       "      <td>-24</td>\n",
       "      <td>12/1/2010 10:24</td>\n",
       "      <td>0.29</td>\n",
       "      <td>17548</td>\n",
       "      <td>United Kingdom</td>\n",
       "    </tr>\n",
       "  </tbody>\n",
       "</table>\n",
       "</div>"
      ],
      "text/plain": [
       "    InvoiceNo StockCode                       Description  Quantity  \\\n",
       "141   C536379         D                          Discount        -1   \n",
       "154   C536383    35004C   SET OF 3 COLOURED  FLYING DUCKS        -1   \n",
       "235   C536391     22556    PLASTERS IN TIN CIRCUS PARADE        -12   \n",
       "236   C536391     21984  PACK OF 12 PINK PAISLEY TISSUES        -24   \n",
       "237   C536391     21983  PACK OF 12 BLUE PAISLEY TISSUES        -24   \n",
       "\n",
       "         InvoiceDate  UnitPrice CustomerID         Country  \n",
       "141   12/1/2010 9:41      27.50      14527  United Kingdom  \n",
       "154   12/1/2010 9:49       4.65      15311  United Kingdom  \n",
       "235  12/1/2010 10:24       1.65      17548  United Kingdom  \n",
       "236  12/1/2010 10:24       0.29      17548  United Kingdom  \n",
       "237  12/1/2010 10:24       0.29      17548  United Kingdom  "
      ]
     },
     "execution_count": 170,
     "metadata": {},
     "output_type": "execute_result"
    }
   ],
   "source": [
    "data[(data['Quantity']<0)].head(5)"
   ]
  },
  {
   "cell_type": "markdown",
   "metadata": {
    "_uuid": "4852a59dc25ca6618e4d0410ecef262ff0fe1833"
   },
   "source": [
    "This is very interesting since we can see various things here :\n",
    "* The stock code values aren't only numerical, there are speciales values like D which means Discount \n",
    "* The InvoiceNo aren't also only numerical since there is a C before the other numbers for every negative value in the quantity column, this could mean that the order was canceled.\n",
    "\n",
    "I'll analyse the InvoiceNo to find any patterns."
   ]
  },
  {
   "cell_type": "markdown",
   "metadata": {
    "_uuid": "d021518238ef19c798a0bc850d834d6e124729c1"
   },
   "source": [
    "**1.2.3 InvoiceNo - Cancelation Code**"
   ]
  },
  {
   "cell_type": "markdown",
   "metadata": {
    "_uuid": "0513ea899500b066c9cffe23b02354bbd4c82c5f"
   },
   "source": [
    "This part was inspired by Fabien Daniel's brilliant work in his Notebook on customer segmentation. "
   ]
  },
  {
   "cell_type": "code",
   "execution_count": 171,
   "metadata": {
    "_uuid": "f03671ac998221104e6b6d85dc7806f1cd5879c4"
   },
   "outputs": [],
   "source": [
    "# Constucting a basket for later use\n",
    "temp = data.groupby(by=['CustomerID', 'InvoiceNo'], as_index=False)['InvoiceDate'].count()\n",
    "nb_products_per_basket = temp.rename(columns = {'InvoiceDate':'Number of products'})"
   ]
  },
  {
   "cell_type": "code",
   "execution_count": 172,
   "metadata": {
    "_uuid": "677c8d2b7a9494b57657505a9cd2e8ba100b2c46"
   },
   "outputs": [
    {
     "data": {
      "text/plain": [
       "16.466876971608833"
      ]
     },
     "execution_count": 172,
     "metadata": {},
     "output_type": "execute_result"
    }
   ],
   "source": [
    "nb_products_per_basket.InvoiceNo = nb_products_per_basket.InvoiceNo.astype(str)\n",
    "nb_products_per_basket['order_canceled'] = nb_products_per_basket['InvoiceNo'].apply(lambda x:int('C' in x))\n",
    "len(nb_products_per_basket[nb_products_per_basket['order_canceled']==1])/len(nb_products_per_basket)*100"
   ]
  },
  {
   "cell_type": "markdown",
   "metadata": {
    "_uuid": "b22483f6779f3240100c3b025aa7174825dc88da"
   },
   "source": [
    "It appears that more than 16% of the transactions were canceled which is significant. Let's take a look at some rows where the transaction was canceled."
   ]
  },
  {
   "cell_type": "code",
   "execution_count": 173,
   "metadata": {
    "_uuid": "f22cba852cb45a2b2afa18e29b68d478954dc26d"
   },
   "outputs": [
    {
     "data": {
      "text/html": [
       "<div>\n",
       "<style scoped>\n",
       "    .dataframe tbody tr th:only-of-type {\n",
       "        vertical-align: middle;\n",
       "    }\n",
       "\n",
       "    .dataframe tbody tr th {\n",
       "        vertical-align: top;\n",
       "    }\n",
       "\n",
       "    .dataframe thead th {\n",
       "        text-align: right;\n",
       "    }\n",
       "</style>\n",
       "<table border=\"1\" class=\"dataframe\">\n",
       "  <thead>\n",
       "    <tr style=\"text-align: right;\">\n",
       "      <th></th>\n",
       "      <th>CustomerID</th>\n",
       "      <th>InvoiceNo</th>\n",
       "      <th>Number of products</th>\n",
       "      <th>order_canceled</th>\n",
       "    </tr>\n",
       "  </thead>\n",
       "  <tbody>\n",
       "    <tr>\n",
       "      <th>1</th>\n",
       "      <td>12346</td>\n",
       "      <td>C541433</td>\n",
       "      <td>1</td>\n",
       "      <td>1</td>\n",
       "    </tr>\n",
       "    <tr>\n",
       "      <th>23</th>\n",
       "      <td>12352</td>\n",
       "      <td>C545329</td>\n",
       "      <td>2</td>\n",
       "      <td>1</td>\n",
       "    </tr>\n",
       "    <tr>\n",
       "      <th>24</th>\n",
       "      <td>12352</td>\n",
       "      <td>C545330</td>\n",
       "      <td>1</td>\n",
       "      <td>1</td>\n",
       "    </tr>\n",
       "    <tr>\n",
       "      <th>25</th>\n",
       "      <td>12352</td>\n",
       "      <td>C547388</td>\n",
       "      <td>7</td>\n",
       "      <td>1</td>\n",
       "    </tr>\n",
       "    <tr>\n",
       "      <th>39</th>\n",
       "      <td>12359</td>\n",
       "      <td>C549955</td>\n",
       "      <td>2</td>\n",
       "      <td>1</td>\n",
       "    </tr>\n",
       "  </tbody>\n",
       "</table>\n",
       "</div>"
      ],
      "text/plain": [
       "   CustomerID InvoiceNo  Number of products  order_canceled\n",
       "1       12346   C541433                   1               1\n",
       "23      12352   C545329                   2               1\n",
       "24      12352   C545330                   1               1\n",
       "25      12352   C547388                   7               1\n",
       "39      12359   C549955                   2               1"
      ]
     },
     "execution_count": 173,
     "metadata": {},
     "output_type": "execute_result"
    }
   ],
   "source": [
    "nb_products_per_basket[nb_products_per_basket['order_canceled']==1][:5]"
   ]
  },
  {
   "cell_type": "code",
   "execution_count": 174,
   "metadata": {
    "_uuid": "6a8718b4f892c8117f740c2226a476460b5c9e18"
   },
   "outputs": [
    {
     "data": {
      "text/html": [
       "<div>\n",
       "<style scoped>\n",
       "    .dataframe tbody tr th:only-of-type {\n",
       "        vertical-align: middle;\n",
       "    }\n",
       "\n",
       "    .dataframe tbody tr th {\n",
       "        vertical-align: top;\n",
       "    }\n",
       "\n",
       "    .dataframe thead th {\n",
       "        text-align: right;\n",
       "    }\n",
       "</style>\n",
       "<table border=\"1\" class=\"dataframe\">\n",
       "  <thead>\n",
       "    <tr style=\"text-align: right;\">\n",
       "      <th></th>\n",
       "      <th>InvoiceNo</th>\n",
       "      <th>StockCode</th>\n",
       "      <th>Description</th>\n",
       "      <th>Quantity</th>\n",
       "      <th>InvoiceDate</th>\n",
       "      <th>UnitPrice</th>\n",
       "      <th>CustomerID</th>\n",
       "      <th>Country</th>\n",
       "    </tr>\n",
       "  </thead>\n",
       "  <tbody>\n",
       "    <tr>\n",
       "      <th>61619</th>\n",
       "      <td>541431</td>\n",
       "      <td>23166</td>\n",
       "      <td>MEDIUM CERAMIC TOP STORAGE JAR</td>\n",
       "      <td>74215</td>\n",
       "      <td>1/18/2011 10:01</td>\n",
       "      <td>1.04</td>\n",
       "      <td>12346</td>\n",
       "      <td>United Kingdom</td>\n",
       "    </tr>\n",
       "    <tr>\n",
       "      <th>61624</th>\n",
       "      <td>C541433</td>\n",
       "      <td>23166</td>\n",
       "      <td>MEDIUM CERAMIC TOP STORAGE JAR</td>\n",
       "      <td>-74215</td>\n",
       "      <td>1/18/2011 10:17</td>\n",
       "      <td>1.04</td>\n",
       "      <td>12346</td>\n",
       "      <td>United Kingdom</td>\n",
       "    </tr>\n",
       "  </tbody>\n",
       "</table>\n",
       "</div>"
      ],
      "text/plain": [
       "      InvoiceNo StockCode                     Description  Quantity  \\\n",
       "61619    541431     23166  MEDIUM CERAMIC TOP STORAGE JAR     74215   \n",
       "61624   C541433     23166  MEDIUM CERAMIC TOP STORAGE JAR    -74215   \n",
       "\n",
       "           InvoiceDate  UnitPrice CustomerID         Country  \n",
       "61619  1/18/2011 10:01       1.04      12346  United Kingdom  \n",
       "61624  1/18/2011 10:17       1.04      12346  United Kingdom  "
      ]
     },
     "execution_count": 174,
     "metadata": {},
     "output_type": "execute_result"
    }
   ],
   "source": [
    "data[data['CustomerID'] == '12346']"
   ]
  },
  {
   "cell_type": "markdown",
   "metadata": {
    "_uuid": "054de5d24c32c9ed9ddecdebd3188eb530b036ea"
   },
   "source": [
    "By looking at these results, it appears that there is a counterpart to the canceled transaction in the database. Let's see if this is always the case."
   ]
  },
  {
   "cell_type": "code",
   "execution_count": 175,
   "metadata": {
    "_kg_hide-input": true,
    "_uuid": "ae4e4f444a55d4ba950f81a328ee27c6964f923a"
   },
   "outputs": [
    {
     "name": "stdout",
     "output_type": "stream",
     "text": [
      "CustomerID        14527\n",
      "Quantity             -1\n",
      "StockCode             D\n",
      "Description    Discount\n",
      "UnitPrice          27.5\n",
      "Name: 141, dtype: object\n",
      "Our initial hypothesis is wrong\n"
     ]
    }
   ],
   "source": [
    "test = data[data['Quantity'] < 0][['CustomerID','Quantity',\n",
    "                                                   'StockCode','Description','UnitPrice']]\n",
    "for index, col in  test.iterrows():\n",
    "    if data[(data['CustomerID'] == col[0]) & (data['Quantity'] == -col[1]) \n",
    "                & (data['Description'] == col[2])].shape[0] == 0: \n",
    "        print(test.loc[index])\n",
    "        print('Our initial hypothesis is wrong')\n",
    "        break"
   ]
  },
  {
   "cell_type": "code",
   "execution_count": 176,
   "metadata": {
    "_uuid": "f62e27a4d449c17a30595d1b7f080a5f98afc00e"
   },
   "outputs": [
    {
     "data": {
      "text/html": [
       "<div>\n",
       "<style scoped>\n",
       "    .dataframe tbody tr th:only-of-type {\n",
       "        vertical-align: middle;\n",
       "    }\n",
       "\n",
       "    .dataframe tbody tr th {\n",
       "        vertical-align: top;\n",
       "    }\n",
       "\n",
       "    .dataframe thead th {\n",
       "        text-align: right;\n",
       "    }\n",
       "</style>\n",
       "<table border=\"1\" class=\"dataframe\">\n",
       "  <thead>\n",
       "    <tr style=\"text-align: right;\">\n",
       "      <th></th>\n",
       "      <th>InvoiceNo</th>\n",
       "      <th>StockCode</th>\n",
       "      <th>Description</th>\n",
       "      <th>Quantity</th>\n",
       "      <th>InvoiceDate</th>\n",
       "      <th>UnitPrice</th>\n",
       "      <th>CustomerID</th>\n",
       "      <th>Country</th>\n",
       "    </tr>\n",
       "  </thead>\n",
       "  <tbody>\n",
       "    <tr>\n",
       "      <th>141</th>\n",
       "      <td>C536379</td>\n",
       "      <td>D</td>\n",
       "      <td>Discount</td>\n",
       "      <td>-1</td>\n",
       "      <td>12/1/2010 9:41</td>\n",
       "      <td>27.50</td>\n",
       "      <td>14527</td>\n",
       "      <td>United Kingdom</td>\n",
       "    </tr>\n",
       "    <tr>\n",
       "      <th>8963</th>\n",
       "      <td>537159</td>\n",
       "      <td>22112</td>\n",
       "      <td>CHOCOLATE HOT WATER BOTTLE</td>\n",
       "      <td>6</td>\n",
       "      <td>12/5/2010 13:17</td>\n",
       "      <td>4.95</td>\n",
       "      <td>14527</td>\n",
       "      <td>United Kingdom</td>\n",
       "    </tr>\n",
       "    <tr>\n",
       "      <th>8964</th>\n",
       "      <td>537159</td>\n",
       "      <td>22111</td>\n",
       "      <td>SCOTTIE DOG HOT WATER BOTTLE</td>\n",
       "      <td>1</td>\n",
       "      <td>12/5/2010 13:17</td>\n",
       "      <td>4.95</td>\n",
       "      <td>14527</td>\n",
       "      <td>United Kingdom</td>\n",
       "    </tr>\n",
       "    <tr>\n",
       "      <th>8965</th>\n",
       "      <td>537159</td>\n",
       "      <td>21479</td>\n",
       "      <td>WHITE SKULL HOT WATER BOTTLE</td>\n",
       "      <td>1</td>\n",
       "      <td>12/5/2010 13:17</td>\n",
       "      <td>3.75</td>\n",
       "      <td>14527</td>\n",
       "      <td>United Kingdom</td>\n",
       "    </tr>\n",
       "    <tr>\n",
       "      <th>8966</th>\n",
       "      <td>537159</td>\n",
       "      <td>22114</td>\n",
       "      <td>HOT WATER BOTTLE TEA AND SYMPATHY</td>\n",
       "      <td>6</td>\n",
       "      <td>12/5/2010 13:17</td>\n",
       "      <td>3.95</td>\n",
       "      <td>14527</td>\n",
       "      <td>United Kingdom</td>\n",
       "    </tr>\n",
       "  </tbody>\n",
       "</table>\n",
       "</div>"
      ],
      "text/plain": [
       "     InvoiceNo StockCode                        Description  Quantity  \\\n",
       "141    C536379         D                           Discount        -1   \n",
       "8963    537159     22112         CHOCOLATE HOT WATER BOTTLE         6   \n",
       "8964    537159     22111       SCOTTIE DOG HOT WATER BOTTLE         1   \n",
       "8965    537159     21479      WHITE SKULL HOT WATER BOTTLE          1   \n",
       "8966    537159     22114  HOT WATER BOTTLE TEA AND SYMPATHY         6   \n",
       "\n",
       "          InvoiceDate  UnitPrice CustomerID         Country  \n",
       "141    12/1/2010 9:41      27.50      14527  United Kingdom  \n",
       "8963  12/5/2010 13:17       4.95      14527  United Kingdom  \n",
       "8964  12/5/2010 13:17       4.95      14527  United Kingdom  \n",
       "8965  12/5/2010 13:17       3.75      14527  United Kingdom  \n",
       "8966  12/5/2010 13:17       3.95      14527  United Kingdom  "
      ]
     },
     "execution_count": 176,
     "metadata": {},
     "output_type": "execute_result"
    }
   ],
   "source": [
    "data[data['CustomerID'] == '14527'].head(5)"
   ]
  },
  {
   "cell_type": "markdown",
   "metadata": {
    "_uuid": "370b2be736055192da8752c6b1d36716a557bbcc"
   },
   "source": [
    "It appears that when there is a discount there are no counterparts.\n",
    "Let's try again but without the discount values"
   ]
  },
  {
   "cell_type": "code",
   "execution_count": 177,
   "metadata": {
    "_kg_hide-input": true,
    "_uuid": "5aece39e63c5a4ea0d7ac14cab2386e38a7175b9"
   },
   "outputs": [
    {
     "name": "stdout",
     "output_type": "stream",
     "text": [
      "154 CustomerID                               15311\n",
      "Quantity                                    -1\n",
      "StockCode                               35004C\n",
      "Description    SET OF 3 COLOURED  FLYING DUCKS\n",
      "UnitPrice                                 4.65\n",
      "Name: 154, dtype: object\n",
      "The second hypothesis is also wrong\n"
     ]
    }
   ],
   "source": [
    "data_check = data[(data['Quantity'] < 0) & (data['Description'] != 'Discount')][\n",
    "                                 ['CustomerID','Quantity','StockCode',\n",
    "                                  'Description','UnitPrice']]\n",
    "\n",
    "for index, col in  data_check.iterrows():\n",
    "    if data[(data['CustomerID'] == col[0]) & (data['Quantity'] == -col[1]) \n",
    "                & (data['Description'] == col[2])].shape[0] == 0: \n",
    "        print(index, data_check.loc[index])\n",
    "        print('The second hypothesis is also wrong')\n",
    "        break"
   ]
  },
  {
   "cell_type": "code",
   "execution_count": 178,
   "metadata": {
    "_uuid": "9ea6fc0efe7a82a39fa7a3f4c6022e8462b7d733"
   },
   "outputs": [
    {
     "data": {
      "text/html": [
       "<div>\n",
       "<style scoped>\n",
       "    .dataframe tbody tr th:only-of-type {\n",
       "        vertical-align: middle;\n",
       "    }\n",
       "\n",
       "    .dataframe tbody tr th {\n",
       "        vertical-align: top;\n",
       "    }\n",
       "\n",
       "    .dataframe thead th {\n",
       "        text-align: right;\n",
       "    }\n",
       "</style>\n",
       "<table border=\"1\" class=\"dataframe\">\n",
       "  <thead>\n",
       "    <tr style=\"text-align: right;\">\n",
       "      <th></th>\n",
       "      <th>InvoiceNo</th>\n",
       "      <th>StockCode</th>\n",
       "      <th>Description</th>\n",
       "      <th>Quantity</th>\n",
       "      <th>InvoiceDate</th>\n",
       "      <th>UnitPrice</th>\n",
       "      <th>CustomerID</th>\n",
       "      <th>Country</th>\n",
       "    </tr>\n",
       "  </thead>\n",
       "  <tbody>\n",
       "    <tr>\n",
       "      <th>154</th>\n",
       "      <td>C536383</td>\n",
       "      <td>35004C</td>\n",
       "      <td>SET OF 3 COLOURED  FLYING DUCKS</td>\n",
       "      <td>-1</td>\n",
       "      <td>12/1/2010 9:49</td>\n",
       "      <td>4.65</td>\n",
       "      <td>15311</td>\n",
       "      <td>United Kingdom</td>\n",
       "    </tr>\n",
       "    <tr>\n",
       "      <th>9200</th>\n",
       "      <td>537195</td>\n",
       "      <td>35004C</td>\n",
       "      <td>SET OF 3 COLOURED  FLYING DUCKS</td>\n",
       "      <td>12</td>\n",
       "      <td>12/5/2010 13:55</td>\n",
       "      <td>4.65</td>\n",
       "      <td>15311</td>\n",
       "      <td>United Kingdom</td>\n",
       "    </tr>\n",
       "    <tr>\n",
       "      <th>18196</th>\n",
       "      <td>C537805</td>\n",
       "      <td>35004C</td>\n",
       "      <td>SET OF 3 COLOURED  FLYING DUCKS</td>\n",
       "      <td>-1</td>\n",
       "      <td>12/8/2010 13:18</td>\n",
       "      <td>4.65</td>\n",
       "      <td>15311</td>\n",
       "      <td>United Kingdom</td>\n",
       "    </tr>\n",
       "    <tr>\n",
       "      <th>28630</th>\n",
       "      <td>538651</td>\n",
       "      <td>35004C</td>\n",
       "      <td>SET OF 3 COLOURED  FLYING DUCKS</td>\n",
       "      <td>12</td>\n",
       "      <td>12/13/2010 15:07</td>\n",
       "      <td>4.65</td>\n",
       "      <td>15311</td>\n",
       "      <td>United Kingdom</td>\n",
       "    </tr>\n",
       "    <tr>\n",
       "      <th>39381</th>\n",
       "      <td>C539640</td>\n",
       "      <td>35004C</td>\n",
       "      <td>SET OF 3 COLOURED  FLYING DUCKS</td>\n",
       "      <td>-3</td>\n",
       "      <td>12/20/2010 15:27</td>\n",
       "      <td>4.65</td>\n",
       "      <td>15311</td>\n",
       "      <td>United Kingdom</td>\n",
       "    </tr>\n",
       "    <tr>\n",
       "      <th>44157</th>\n",
       "      <td>540157</td>\n",
       "      <td>35004C</td>\n",
       "      <td>SET OF 3 COLOURED  FLYING DUCKS</td>\n",
       "      <td>12</td>\n",
       "      <td>1/5/2011 11:41</td>\n",
       "      <td>4.65</td>\n",
       "      <td>15311</td>\n",
       "      <td>United Kingdom</td>\n",
       "    </tr>\n",
       "    <tr>\n",
       "      <th>59542</th>\n",
       "      <td>541293</td>\n",
       "      <td>35004C</td>\n",
       "      <td>SET OF 3 COLOURED  FLYING DUCKS</td>\n",
       "      <td>12</td>\n",
       "      <td>1/17/2011 13:39</td>\n",
       "      <td>4.65</td>\n",
       "      <td>15311</td>\n",
       "      <td>United Kingdom</td>\n",
       "    </tr>\n",
       "    <tr>\n",
       "      <th>78333</th>\n",
       "      <td>C542866</td>\n",
       "      <td>35004C</td>\n",
       "      <td>SET OF 3 COLOURED  FLYING DUCKS</td>\n",
       "      <td>-2</td>\n",
       "      <td>2/1/2011 12:14</td>\n",
       "      <td>4.65</td>\n",
       "      <td>15311</td>\n",
       "      <td>United Kingdom</td>\n",
       "    </tr>\n",
       "  </tbody>\n",
       "</table>\n",
       "</div>"
      ],
      "text/plain": [
       "      InvoiceNo StockCode                      Description  Quantity  \\\n",
       "154     C536383    35004C  SET OF 3 COLOURED  FLYING DUCKS        -1   \n",
       "9200     537195    35004C  SET OF 3 COLOURED  FLYING DUCKS        12   \n",
       "18196   C537805    35004C  SET OF 3 COLOURED  FLYING DUCKS        -1   \n",
       "28630    538651    35004C  SET OF 3 COLOURED  FLYING DUCKS        12   \n",
       "39381   C539640    35004C  SET OF 3 COLOURED  FLYING DUCKS        -3   \n",
       "44157    540157    35004C  SET OF 3 COLOURED  FLYING DUCKS        12   \n",
       "59542    541293    35004C  SET OF 3 COLOURED  FLYING DUCKS        12   \n",
       "78333   C542866    35004C  SET OF 3 COLOURED  FLYING DUCKS        -2   \n",
       "\n",
       "            InvoiceDate  UnitPrice CustomerID         Country  \n",
       "154      12/1/2010 9:49       4.65      15311  United Kingdom  \n",
       "9200    12/5/2010 13:55       4.65      15311  United Kingdom  \n",
       "18196   12/8/2010 13:18       4.65      15311  United Kingdom  \n",
       "28630  12/13/2010 15:07       4.65      15311  United Kingdom  \n",
       "39381  12/20/2010 15:27       4.65      15311  United Kingdom  \n",
       "44157    1/5/2011 11:41       4.65      15311  United Kingdom  \n",
       "59542   1/17/2011 13:39       4.65      15311  United Kingdom  \n",
       "78333    2/1/2011 12:14       4.65      15311  United Kingdom  "
      ]
     },
     "execution_count": 178,
     "metadata": {},
     "output_type": "execute_result"
    }
   ],
   "source": [
    "data[(data['CustomerID'] == '15311') & (data['Description'] == 'SET OF 3 COLOURED  FLYING DUCKS')]"
   ]
  },
  {
   "cell_type": "markdown",
   "metadata": {
    "_uuid": "8c8c828dd166e5be65db8dabb71f478715047b14"
   },
   "source": [
    "It seels that the customer can also cancel just a part of the transaction which is logical so we need to take this into account for later."
   ]
  },
  {
   "cell_type": "code",
   "execution_count": null,
   "metadata": {
    "_kg_hide-input": true,
    "_uuid": "6e10d1cf3c6c781408c54c955385c1055812cb69"
   },
   "outputs": [],
   "source": [
    "df_cleaned = data.copy(deep = True)\n",
    "df_cleaned['QuantityCanceled'] = 0\n",
    "\n",
    "entry_to_remove = [] ; doubtfull_entry = []\n",
    "\n",
    "for index, col in  data.iterrows():\n",
    "    if (col['Quantity'] > 0) or col['Description'] == 'Discount': continue        \n",
    "    df_test = data[(data['CustomerID'] == col['CustomerID']) &\n",
    "                         (data['StockCode']  == col['StockCode']) & \n",
    "                         (data['InvoiceDate'] < col['InvoiceDate']) & \n",
    "                         (data['Quantity']   > 0)].copy()\n",
    "    #_________________________________\n",
    "    # Cancelation WITHOUT counterpart\n",
    "    if (df_test.shape[0] == 0): \n",
    "        doubtfull_entry.append(index)\n",
    "    #________________________________\n",
    "    # Cancelation WITH a counterpart\n",
    "    elif (df_test.shape[0] == 1): \n",
    "        index_order = df_test.index[0]\n",
    "        df_cleaned.loc[index_order, 'QuantityCanceled'] = -col['Quantity']\n",
    "        entry_to_remove.append(index)        \n",
    "    #______________________________________________________________\n",
    "    # Various counterparts exist in orders: we delete the last one\n",
    "    elif (df_test.shape[0] > 1): \n",
    "        df_test.sort_index(axis=0 ,ascending=False, inplace = True)        \n",
    "        for ind, val in df_test.iterrows():\n",
    "            if val['Quantity'] < -col['Quantity']: continue\n",
    "            df_cleaned.loc[ind, 'QuantityCanceled'] = -col['Quantity']\n",
    "            entry_to_remove.append(index) \n",
    "            break    "
   ]
  },
  {
   "cell_type": "code",
   "execution_count": null,
   "metadata": {
    "_uuid": "f699fb6bbb31e15dbdcdba6b785a42d8907fc3ce"
   },
   "outputs": [],
   "source": [
    "print(\"entry_to_remove: {}\".format(len(entry_to_remove)))\n",
    "print(\"doubtfull_entry: {}\".format(len(doubtfull_entry)))"
   ]
  },
  {
   "cell_type": "code",
   "execution_count": null,
   "metadata": {
    "_uuid": "2becbb2ca01bf300ae7e4dae82acfa61390acc5b"
   },
   "outputs": [],
   "source": [
    "df_cleaned.drop(entry_to_remove, axis = 0, inplace = True)\n",
    "df_cleaned.drop(doubtfull_entry, axis = 0, inplace = True)\n",
    "remaining_entries = df_cleaned[(df_cleaned['Quantity'] < 0) & (df_cleaned['StockCode'] != 'D')]\n",
    "print(\"nb of entries to delete: {}\".format(remaining_entries.shape[0]))\n",
    "remaining_entries[:5]"
   ]
  },
  {
   "cell_type": "code",
   "execution_count": null,
   "metadata": {
    "_uuid": "678b7bdb4a643cbad399f45bc948974a9d86ba41"
   },
   "outputs": [],
   "source": [
    "df_cleaned.drop(remaining_entries.index, axis = 0, inplace = True)"
   ]
  },
  {
   "cell_type": "markdown",
   "metadata": {
    "_uuid": "3cc55e1107ce6a468077a2d2de172f3a5de1c1a7"
   },
   "source": [
    "**1.2.4 Stockcode**"
   ]
  },
  {
   "cell_type": "code",
   "execution_count": null,
   "metadata": {
    "_uuid": "e75fd3f9318c36ce18b96be07bc3ce9b9affcd8a"
   },
   "outputs": [],
   "source": [
    "list_special_codes = df_cleaned[df_cleaned['StockCode'].str.contains('^[a-zA-Z]+', regex=True)]['StockCode'].unique()\n",
    "list_special_codes"
   ]
  },
  {
   "cell_type": "markdown",
   "metadata": {
    "_uuid": "f10ffc18e8be42f549f51066342fc7b9f8c855e5"
   },
   "source": [
    "These are specific operations which doesn't characterize our customers so I'll just drop these transactions from our database"
   ]
  },
  {
   "cell_type": "code",
   "execution_count": null,
   "metadata": {
    "_uuid": "70a2da7f1a6a0f8cd7f674658343089348e22897"
   },
   "outputs": [],
   "source": [
    "df_cleaned = df_cleaned[df_cleaned['StockCode']!= 'POST']\n",
    "df_cleaned = df_cleaned[df_cleaned['StockCode']!= 'D']\n",
    "df_cleaned = df_cleaned[df_cleaned['StockCode']!= 'C2']\n",
    "df_cleaned = df_cleaned[df_cleaned['StockCode']!= 'M']\n",
    "df_cleaned = df_cleaned[df_cleaned['StockCode']!= 'BANK CHARGES']\n",
    "df_cleaned = df_cleaned[df_cleaned['StockCode']!= 'PADS']\n",
    "df_cleaned = df_cleaned[df_cleaned['StockCode']!= 'DOT']"
   ]
  },
  {
   "cell_type": "markdown",
   "metadata": {
    "_uuid": "2773920a5c3f74fe9b2dbdc0e7ad851782e39bbb"
   },
   "source": [
    "**1.2.5 Outliers**"
   ]
  },
  {
   "cell_type": "code",
   "execution_count": null,
   "metadata": {
    "_uuid": "85f20c60abf7995f2c020833558604abb2d2f940"
   },
   "outputs": [],
   "source": [
    "df_cleaned.describe()"
   ]
  },
  {
   "cell_type": "markdown",
   "metadata": {
    "_uuid": "2bee4fdcc2aedd882c7bc62a3fab9fd9f2457345"
   },
   "source": [
    "The minimum value for the unitprice is 0, let's see why is that."
   ]
  },
  {
   "cell_type": "code",
   "execution_count": null,
   "metadata": {
    "_uuid": "b674513b29da5146825e0c2a7258cd53d4c289ea"
   },
   "outputs": [],
   "source": [
    "df_cleaned[(df_cleaned['UnitPrice'] == 0)].head(5)"
   ]
  },
  {
   "cell_type": "markdown",
   "metadata": {
    "_uuid": "05cf5a81b5cbd7dd1ca984c5546b0fa90f0bd59b"
   },
   "source": [
    "I am tempted to replace the null values by the most common one but it might be a special discount or something else so I'll leave it like that.\n",
    "Here let's remove the items that got completely canceled in order to harmonize the futur clusters and not have too much special values."
   ]
  },
  {
   "cell_type": "markdown",
   "metadata": {
    "_uuid": "90019323b3e29b67d32f72060907805d238aa2dd"
   },
   "source": [
    "**1.3 Feature engineering**"
   ]
  },
  {
   "cell_type": "code",
   "execution_count": null,
   "metadata": {
    "_uuid": "d747d0bd104e4c3dd572018a35dae31324c7ccd3"
   },
   "outputs": [],
   "source": [
    "def unique_counts(data):\n",
    "   for i in data.columns:\n",
    "       count = data[i].nunique()\n",
    "       print(i, \": \", count)\n",
    "unique_counts(df_cleaned)"
   ]
  },
  {
   "cell_type": "markdown",
   "metadata": {
    "_uuid": "c8c52b0528430d8220442f65d9b24552021ba229"
   },
   "source": [
    "**1.3.1 Total Price**"
   ]
  },
  {
   "cell_type": "code",
   "execution_count": null,
   "metadata": {
    "_uuid": "bd30a08d44a7cfe002ba5d4969c5e981cdc8346e"
   },
   "outputs": [],
   "source": [
    "# Total price feature\n",
    "\n",
    "df_cleaned['TotalPrice'] = df_cleaned['UnitPrice'] * (df_cleaned['Quantity'] - df_cleaned['QuantityCanceled'])"
   ]
  },
  {
   "cell_type": "markdown",
   "metadata": {
    "_uuid": "d4edd00d63311e923a928dde2bee1fdd4b0c6c65"
   },
   "source": [
    "We can now look at the countries' monetary value thanks to this feature"
   ]
  },
  {
   "cell_type": "code",
   "execution_count": null,
   "metadata": {
    "_uuid": "4bfa10eefa6e21d4ffa866ec899aa80cc4002ad4"
   },
   "outputs": [],
   "source": [
    "revenue_per_countries = df_cleaned.groupby([\"Country\"])[\"TotalPrice\"].sum().sort_values()\n",
    "revenue_per_countries.plot(kind='barh', figsize=(15,12))\n",
    "plt.title(\"Revenue per Country\")"
   ]
  },
  {
   "cell_type": "code",
   "execution_count": null,
   "metadata": {
    "_uuid": "42e503433949585838e7cc131afc278fcb37f751"
   },
   "outputs": [],
   "source": [
    "No_invoice_per_country = df_cleaned.groupby([\"Country\"])[\"InvoiceNo\"].count().sort_values()\n",
    "No_invoice_per_country.plot(kind='barh', figsize=(15,12))\n",
    "plt.title(\"Number of Invoices per Country\")"
   ]
  },
  {
   "cell_type": "markdown",
   "metadata": {
    "_uuid": "9455f7a3bd9f5a86e80dc3a2a9f2eb642333b9d5"
   },
   "source": [
    "This is very interesting since we can see that Netherlands is the 2nd country in value even though it has less invoices than countries like Germany or France for example and 10 times less customers. (95, 87 and 9 for Germany, France and Netherlands respectively)"
   ]
  },
  {
   "cell_type": "code",
   "execution_count": null,
   "metadata": {
    "_uuid": "65047442bca55a21322e2504986955270b4a2b5a"
   },
   "outputs": [],
   "source": [
    "le = LabelEncoder()\n",
    "le.fit(df_cleaned['Country'])"
   ]
  },
  {
   "cell_type": "code",
   "execution_count": null,
   "metadata": {
    "_uuid": "7ddd1a8ab5cffaf40bfc39bd67cac3e8324b26e4"
   },
   "outputs": [],
   "source": [
    "l = [i for i in range(37)]\n",
    "dict(zip(list(le.classes_), l))"
   ]
  },
  {
   "cell_type": "code",
   "execution_count": null,
   "metadata": {
    "_uuid": "7de551f4876e2ca3c1cbb457c0f704b736e19a8d"
   },
   "outputs": [],
   "source": [
    "df_cleaned['Country'] = le.transform(df_cleaned['Country'])"
   ]
  },
  {
   "cell_type": "code",
   "execution_count": null,
   "metadata": {
    "_uuid": "089ed0084708a106f164e6d208e801b2faf636ad"
   },
   "outputs": [],
   "source": [
    "with open('labelencoder.pickle', 'wb') as g:\n",
    "    pickle.dump(le, g)"
   ]
  },
  {
   "cell_type": "code",
   "execution_count": null,
   "metadata": {
    "_uuid": "f3372c065e258fd822f5d13c08808baa69115735"
   },
   "outputs": [],
   "source": [
    "df_cleaned.head(5)"
   ]
  },
  {
   "cell_type": "markdown",
   "metadata": {
    "_uuid": "fe334ef9f8165328fc14400be829499b0b2c46f1"
   },
   "source": [
    "**1.3.2 RFM Principle**"
   ]
  },
  {
   "cell_type": "markdown",
   "metadata": {
    "_uuid": "20fe7fcbb4cc57122831c56aef65491a21fe449f"
   },
   "source": [
    "I'll implement here the RFM principle to classify the customers in this database. This part is inspired by the work of Susan Li. RFM stands for Recency, Frequency and Monetary. It is a customer segmentation technique that uses past purchase behavior to divide customers into groups."
   ]
  },
  {
   "cell_type": "code",
   "execution_count": null,
   "metadata": {
    "_uuid": "7f5671bf544cd166b466980a30336db4aff9df1f"
   },
   "outputs": [],
   "source": [
    "df_cleaned['InvoiceDate'].min()"
   ]
  },
  {
   "cell_type": "code",
   "execution_count": null,
   "metadata": {
    "_uuid": "23be9a034e280c3b3a4386d0a25284c83aac631a"
   },
   "outputs": [],
   "source": [
    "df_cleaned['InvoiceDate'].max()"
   ]
  },
  {
   "cell_type": "code",
   "execution_count": null,
   "metadata": {
    "_uuid": "18d49dba56b261c6de618df427de06447cfcdf75"
   },
   "outputs": [],
   "source": [
    "# I'll just fix the date to be one day after the last entry in the databse\n",
    "\n",
    "NOW = dt.datetime(2011,12,10)\n",
    "df_cleaned['InvoiceDate'] = pd.to_datetime(df_cleaned['InvoiceDate'])"
   ]
  },
  {
   "cell_type": "code",
   "execution_count": null,
   "metadata": {
    "_uuid": "faf55dd4b17103474f2fb4b4b59810f79f82e16e"
   },
   "outputs": [],
   "source": [
    "custom_aggregation = {}\n",
    "custom_aggregation[\"InvoiceDate\"] = lambda x:x.iloc[0]\n",
    "custom_aggregation[\"CustomerID\"] = lambda x:x.iloc[0]\n",
    "custom_aggregation[\"TotalPrice\"] = \"sum\"\n",
    "\n",
    "\n",
    "rfmTable = df_cleaned.groupby(\"InvoiceNo\").agg(custom_aggregation)"
   ]
  },
  {
   "cell_type": "code",
   "execution_count": null,
   "metadata": {
    "_uuid": "c83be4a911b4d23e0d0da16e7213376a9aa507a5"
   },
   "outputs": [],
   "source": [
    "rfmTable[\"Recency\"] = NOW - rfmTable[\"InvoiceDate\"]\n",
    "rfmTable[\"Recency\"] = pd.to_timedelta(rfmTable[\"Recency\"]).astype(\"timedelta64[D]\")"
   ]
  },
  {
   "cell_type": "code",
   "execution_count": null,
   "metadata": {
    "_uuid": "5d0fcd48ed1ba17b7918e36fd560e9b9ee06b620"
   },
   "outputs": [],
   "source": [
    "rfmTable.head(5)"
   ]
  },
  {
   "cell_type": "code",
   "execution_count": null,
   "metadata": {
    "_uuid": "12760f07d1f74e816d23ab2e0a8f3dade428af71"
   },
   "outputs": [],
   "source": [
    "custom_aggregation = {}\n",
    "\n",
    "custom_aggregation[\"Recency\"] = [\"min\", \"max\"]\n",
    "custom_aggregation[\"InvoiceDate\"] = lambda x: len(x)\n",
    "custom_aggregation[\"TotalPrice\"] = \"sum\"\n",
    "\n",
    "rfmTable_final = rfmTable.groupby(\"CustomerID\").agg(custom_aggregation)"
   ]
  },
  {
   "cell_type": "code",
   "execution_count": null,
   "metadata": {
    "_uuid": "100fb5bcdb7bca1115411168377de516d8e50653"
   },
   "outputs": [],
   "source": [
    "rfmTable_final.columns = [\"min_recency\", \"max_recency\", \"frequency\", \"monetary_value\"]"
   ]
  },
  {
   "cell_type": "code",
   "execution_count": null,
   "metadata": {
    "_uuid": "8df9a31ae1e45fa8ea6b461e04114386fc90dbdc"
   },
   "outputs": [],
   "source": [
    "rfmTable_final.head(5)"
   ]
  },
  {
   "cell_type": "code",
   "execution_count": null,
   "metadata": {
    "_uuid": "291b0a627e9bd2e509d29ce427ed5ba62dacf48c",
    "scrolled": true
   },
   "outputs": [],
   "source": [
    "first_customer = df_cleaned[df_cleaned['CustomerID']=='12747']\n",
    "first_customer.head(5)"
   ]
  },
  {
   "cell_type": "markdown",
   "metadata": {
    "_uuid": "0bd024aaa5578c046da4124264ec109d94c2a9c3"
   },
   "source": [
    "The first customer has shopped a lot !"
   ]
  },
  {
   "cell_type": "code",
   "execution_count": null,
   "metadata": {
    "_uuid": "d1a33134f1d14d20dd72064456135cd6bd2526c1"
   },
   "outputs": [],
   "source": [
    "quantiles = rfmTable_final.quantile(q=[0.25,0.5,0.75])\n",
    "quantiles = quantiles.to_dict()"
   ]
  },
  {
   "cell_type": "code",
   "execution_count": null,
   "metadata": {
    "_uuid": "5135fc2b4de915841c6626e35e0d6ba2989bf38f"
   },
   "outputs": [],
   "source": [
    "segmented_rfm = rfmTable_final"
   ]
  },
  {
   "cell_type": "code",
   "execution_count": null,
   "metadata": {
    "_uuid": "2c84818efa8adbeed200b67a99fa01499608e78f"
   },
   "outputs": [],
   "source": [
    "def RScore(x,p,d):\n",
    "    if x <= d[p][0.25]:\n",
    "        return 1\n",
    "    elif x <= d[p][0.50]:\n",
    "        return 2\n",
    "    elif x <= d[p][0.75]: \n",
    "        return 3\n",
    "    else:\n",
    "        return 4\n",
    "    \n",
    "def FMScore(x,p,d):\n",
    "    if x <= d[p][0.25]:\n",
    "        return 4\n",
    "    elif x <= d[p][0.50]:\n",
    "        return 3\n",
    "    elif x <= d[p][0.75]: \n",
    "        return 2\n",
    "    else:\n",
    "        return 1"
   ]
  },
  {
   "cell_type": "markdown",
   "metadata": {
    "_uuid": "49a78ed17e8c7fb588a640c0ba926395e6869167"
   },
   "source": [
    "Here we'll apply a score on each feature of RFM"
   ]
  },
  {
   "cell_type": "code",
   "execution_count": null,
   "metadata": {
    "_uuid": "18e2f59a8a3425e71069fdb5902b5269c26f972a"
   },
   "outputs": [],
   "source": [
    "segmented_rfm['r_quartile'] = segmented_rfm['min_recency'].apply(RScore, args=('min_recency',quantiles,))\n",
    "segmented_rfm['f_quartile'] = segmented_rfm['frequency'].apply(FMScore, args=('frequency',quantiles,))\n",
    "segmented_rfm['m_quartile'] = segmented_rfm['monetary_value'].apply(FMScore, args=('monetary_value',quantiles,))\n",
    "segmented_rfm.head()"
   ]
  },
  {
   "cell_type": "markdown",
   "metadata": {
    "_uuid": "aafc5e36e51f443099117617da46494f60da947d"
   },
   "source": [
    "Finally we'll set a score for each customer in the database. "
   ]
  },
  {
   "cell_type": "code",
   "execution_count": null,
   "metadata": {
    "_uuid": "494711dc52c35a134540d3516b06ff1f4cd8c4c7"
   },
   "outputs": [],
   "source": [
    "segmented_rfm['RFMScore'] = segmented_rfm.r_quartile.map(str) + segmented_rfm.f_quartile.map(str) + segmented_rfm.m_quartile.map(str)\n",
    "segmented_rfm.head()"
   ]
  },
  {
   "cell_type": "code",
   "execution_count": null,
   "metadata": {
    "_kg_hide-output": true,
    "_uuid": "718082fe6d60de3fe8b3c28bb26aeb312edda60c",
    "scrolled": true
   },
   "outputs": [],
   "source": [
    "segmented_rfm[segmented_rfm['RFMScore']=='111'].sort_values('monetary_value', ascending=False)"
   ]
  },
  {
   "cell_type": "markdown",
   "metadata": {
    "_uuid": "7ebee70601770d7ce6a60af6bdbf26c3016fdedf"
   },
   "source": [
    "Here we have an example of customers with a score of 111 which means that they are classified as our best customers."
   ]
  },
  {
   "cell_type": "code",
   "execution_count": null,
   "metadata": {
    "_uuid": "c68620bce803f13c5174d5e605bce2872fb1251d"
   },
   "outputs": [],
   "source": [
    "segmented_rfm.head(5)"
   ]
  },
  {
   "cell_type": "code",
   "execution_count": null,
   "metadata": {
    "_uuid": "6c2706ca5bc62b9a562755aa76b22dd73db3499e"
   },
   "outputs": [],
   "source": [
    "segmented_rfm = segmented_rfm.reset_index()"
   ]
  },
  {
   "cell_type": "code",
   "execution_count": null,
   "metadata": {
    "_uuid": "9b5857176b428c75c05015726822a706f567ad66"
   },
   "outputs": [],
   "source": [
    "segmented_rfm.head(5)"
   ]
  },
  {
   "cell_type": "code",
   "execution_count": null,
   "metadata": {
    "_uuid": "321bf33956d42746f515ecede29b24071b3952da"
   },
   "outputs": [],
   "source": [
    "df_cleaned = pd.merge(df_cleaned,segmented_rfm, on='CustomerID')"
   ]
  },
  {
   "cell_type": "code",
   "execution_count": null,
   "metadata": {
    "_uuid": "b88f76f7c13e7f8b172bd12b14ff72da47bd52e0"
   },
   "outputs": [],
   "source": [
    "df_cleaned.columns"
   ]
  },
  {
   "cell_type": "markdown",
   "metadata": {
    "_uuid": "7e71ff463486d3c6d591b572e653ad21018442f5"
   },
   "source": [
    "We don't need the quartiles anymore, let's drop them."
   ]
  },
  {
   "cell_type": "code",
   "execution_count": null,
   "metadata": {
    "_uuid": "ce78f120dd47294284f364fb31ff749af5cb9652"
   },
   "outputs": [],
   "source": [
    "df_cleaned = df_cleaned.drop(columns=['r_quartile', 'f_quartile', 'm_quartile'])"
   ]
  },
  {
   "cell_type": "markdown",
   "metadata": {
    "_uuid": "cc96e85e5847c83f5204be2bfd086253be5f2e7c"
   },
   "source": [
    "==> Score's definition\n",
    "\n",
    "![](https://i.imgur.com/YmItbbm.png?)"
   ]
  },
  {
   "cell_type": "markdown",
   "metadata": {
    "_uuid": "99dc2a526a049285ae70c13abe480e41531223fa"
   },
   "source": [
    "**1.3.3 Time Features**"
   ]
  },
  {
   "cell_type": "markdown",
   "metadata": {
    "_uuid": "b800e13f53a9242482bce0c3215d215b9ef4777c"
   },
   "source": [
    "I'll now create some time features, although I might not use them. It could be interesting to see if there are any paterns due to seasonality."
   ]
  },
  {
   "cell_type": "code",
   "execution_count": null,
   "metadata": {
    "_uuid": "38786aff30d70cd48252636563a76006993fb488"
   },
   "outputs": [],
   "source": [
    "df_cleaned['Month'] = df_cleaned[\"InvoiceDate\"].map(lambda x: x.month)"
   ]
  },
  {
   "cell_type": "code",
   "execution_count": null,
   "metadata": {
    "_uuid": "b8b797195f56dc689d35bba45bdc6b44a82d7437"
   },
   "outputs": [],
   "source": [
    "df_cleaned['Month'].value_counts()"
   ]
  },
  {
   "cell_type": "code",
   "execution_count": null,
   "metadata": {
    "_uuid": "df63adfaa1094413e423209ea3264e0717d239ef"
   },
   "outputs": [],
   "source": [
    "df_cleaned['Weekday'] = df_cleaned[\"InvoiceDate\"].map(lambda x: x.weekday())\n",
    "df_cleaned['Day'] = df_cleaned[\"InvoiceDate\"].map(lambda x: x.day)\n",
    "df_cleaned['Hour'] = df_cleaned[\"InvoiceDate\"].map(lambda x: x.hour)"
   ]
  },
  {
   "cell_type": "code",
   "execution_count": null,
   "metadata": {
    "_uuid": "74182d01fcb0bd8411c91aa6a0103b793826e7cb"
   },
   "outputs": [],
   "source": [
    "df_cleaned.head(5)"
   ]
  },
  {
   "cell_type": "markdown",
   "metadata": {
    "_uuid": "a50e4fe96a116bf9682f73ff424e9553dff4a6e5"
   },
   "source": [
    "**1.3.4 Product categories**"
   ]
  },
  {
   "cell_type": "code",
   "execution_count": null,
   "metadata": {
    "_kg_hide-input": true,
    "_uuid": "438997bb96d5a7a79a6f4eef309c90268cc8661e"
   },
   "outputs": [],
   "source": [
    "X = df_cleaned[\"Description\"].unique()\n",
    "\n",
    "stemmer = nltk.stem.porter.PorterStemmer()\n",
    "stopword = nltk.corpus.stopwords.words('english')\n",
    "\n",
    "def stem_and_filter(doc):\n",
    "    tokens = [stemmer.stem(w) for w in analyzer(doc)]\n",
    "    return [token for token in tokens if token.isalpha()]\n",
    "\n",
    "analyzer = TfidfVectorizer().build_analyzer()\n",
    "CV = TfidfVectorizer(lowercase=True, stop_words=\"english\", analyzer=stem_and_filter, min_df=0.00, max_df=0.3)  # we remove words if it appears in more than 30 % of the corpus (not found stopwords like Box, Christmas and so on)\n",
    "TF_IDF_matrix = CV.fit_transform(X)\n",
    "print(\"TF_IDF_matrix :\", TF_IDF_matrix.shape, \"of\", TF_IDF_matrix.dtype)"
   ]
  },
  {
   "cell_type": "code",
   "execution_count": null,
   "metadata": {
    "_kg_hide-input": true,
    "_uuid": "8281a96a22733d25c249d29f56c54e4522ff37a0"
   },
   "outputs": [],
   "source": [
    "svd = TruncatedSVD(n_components = 100)\n",
    "normalizer = Normalizer(copy=False)\n",
    "\n",
    "TF_IDF_embedded = svd.fit_transform(TF_IDF_matrix)\n",
    "TF_IDF_embedded = normalizer.fit_transform(TF_IDF_embedded)\n",
    "print(\"TF_IDF_embedded :\", TF_IDF_embedded.shape, \"of\", TF_IDF_embedded.dtype)"
   ]
  },
  {
   "cell_type": "code",
   "execution_count": null,
   "metadata": {
    "_kg_hide-input": true,
    "_uuid": "33b6f6d967df83c97950f05849e4bc19d120d790"
   },
   "outputs": [],
   "source": [
    "score_tfidf = []\n",
    "\n",
    "x = list(range(5, 155, 10))\n",
    "\n",
    "for n_clusters in x:\n",
    "    kmeans = KMeans(init='k-means++', n_clusters = n_clusters, n_init=10)\n",
    "    kmeans.fit(TF_IDF_embedded)\n",
    "    clusters = kmeans.predict(TF_IDF_embedded)\n",
    "    silhouette_avg = silhouette_score(TF_IDF_embedded, clusters)\n",
    "\n",
    "    rep = np.histogram(clusters, bins = n_clusters-1)[0]\n",
    "    score_tfidf.append(silhouette_avg)"
   ]
  },
  {
   "cell_type": "code",
   "execution_count": null,
   "metadata": {
    "_kg_hide-input": true,
    "_uuid": "023841dda2a981d7ec463e9df3c11eb623525e9e"
   },
   "outputs": [],
   "source": [
    "plt.figure(figsize=(20,16))\n",
    "\n",
    "plt.subplot(2, 1, 1)\n",
    "plt.plot(x, score_tfidf, label=\"TF-IDF matrix\")\n",
    "plt.title(\"Evolution of the Silhouette Score\")\n",
    "plt.legend()"
   ]
  },
  {
   "cell_type": "markdown",
   "metadata": {
    "_uuid": "a9b80d45d170e566522f907ab62075f8e4d619d6"
   },
   "source": [
    "The highest value for the silhouette score is when there are 135 clusters. So we'll chose this value."
   ]
  },
  {
   "cell_type": "code",
   "execution_count": null,
   "metadata": {
    "_uuid": "34be76eb22c291303e861b792e0e7cc7f5ca7ea7"
   },
   "outputs": [],
   "source": [
    "n_clusters = 135\n",
    "\n",
    "kmeans = KMeans(init='k-means++', n_clusters = n_clusters, n_init=30, random_state=0)\n",
    "proj = kmeans.fit_transform(TF_IDF_embedded)\n",
    "clusters = kmeans.predict(TF_IDF_embedded)\n",
    "plt.figure(figsize=(10,10))\n",
    "plt.scatter(proj[:,0], proj[:,1], c=clusters)\n",
    "plt.title(\"ACP with 135 clusters\", fontsize=\"20\")"
   ]
  },
  {
   "cell_type": "code",
   "execution_count": null,
   "metadata": {
    "_uuid": "288a0e2a113e3595320cbd25332815dc98e541e9"
   },
   "outputs": [],
   "source": [
    "tsne = TSNE(n_components=2)\n",
    "proj = tsne.fit_transform(TF_IDF_embedded)\n",
    "\n",
    "plt.figure(figsize=(10,10))\n",
    "plt.scatter(proj[:,0], proj[:,1], c=clusters)\n",
    "plt.title(\"Visualization of the clustering with TSNE\", fontsize=\"20\")"
   ]
  },
  {
   "cell_type": "code",
   "execution_count": null,
   "metadata": {
    "_uuid": "bd663130de6997ccda8b32d3088f6f80fc4da742"
   },
   "outputs": [],
   "source": [
    "plt.figure(figsize=(20,8))\n",
    "wc = WordCloud()\n",
    "\n",
    "for num, cluster in enumerate(random.sample(range(100), 12)) :\n",
    "    plt.subplot(3, 4, num+1)\n",
    "    wc.generate(\" \".join(X[np.where(clusters==cluster)]))\n",
    "    plt.imshow(wc, interpolation='bilinear')\n",
    "    plt.title(\"Cluster {}\".format(cluster))\n",
    "    plt.axis(\"off\")\n",
    "plt.figure()"
   ]
  },
  {
   "cell_type": "code",
   "execution_count": null,
   "metadata": {
    "_uuid": "523dd38d6373c30fd616c035b95913291e23b47c"
   },
   "outputs": [],
   "source": [
    "pd.Series(clusters).hist(bins=100)"
   ]
  },
  {
   "cell_type": "code",
   "execution_count": null,
   "metadata": {
    "_uuid": "918e09aaf3ad92246ac5f5fc2bba399d2cb6dc4d"
   },
   "outputs": [],
   "source": [
    "dict_article_to_cluster = {article : cluster for article, cluster in zip(X, clusters)}"
   ]
  },
  {
   "cell_type": "code",
   "execution_count": null,
   "metadata": {
    "_uuid": "08b757366aa76c89fb221ca6f1a05725fcd19548"
   },
   "outputs": [],
   "source": [
    "with open('product_clusters.pickle', 'wb') as h:\n",
    "    pickle.dump(dict_article_to_cluster, h)"
   ]
  },
  {
   "cell_type": "markdown",
   "metadata": {
    "_uuid": "350df7be241aeedd956e8b415bee84136d740c82"
   },
   "source": [
    "**2. Creating customer categories**"
   ]
  },
  {
   "cell_type": "markdown",
   "metadata": {
    "_uuid": "e96db069126a75f81e0a5aabd16b06b4532b46c3"
   },
   "source": [
    "**2.1 Intermediate dataset grouped by invoices**"
   ]
  },
  {
   "cell_type": "code",
   "execution_count": null,
   "metadata": {
    "_uuid": "8a6dd206e780b97cd10b001646e699e89b81a399"
   },
   "outputs": [],
   "source": [
    "cluster = df_cleaned['Description'].apply(lambda x : dict_article_to_cluster[x])\n",
    "df2 = pd.get_dummies(cluster, prefix=\"Cluster\").mul(df_cleaned[\"TotalPrice\"], 0)\n",
    "df2 = pd.concat([df_cleaned['InvoiceNo'], df2], axis=1)\n",
    "df2_grouped = df2.groupby('InvoiceNo').sum()"
   ]
  },
  {
   "cell_type": "code",
   "execution_count": null,
   "metadata": {
    "_uuid": "88ce128a7242b68714abdf3521e4be55932fe081"
   },
   "outputs": [],
   "source": [
    "custom_aggregation = {}\n",
    "custom_aggregation[\"TotalPrice\"] = lambda x:x.iloc[0]\n",
    "custom_aggregation[\"min_recency\"] = lambda x:x.iloc[0]\n",
    "custom_aggregation[\"max_recency\"] = lambda x:x.iloc[0]\n",
    "custom_aggregation[\"frequency\"] = lambda x:x.iloc[0]\n",
    "custom_aggregation[\"monetary_value\"] = lambda x:x.iloc[0]\n",
    "custom_aggregation[\"CustomerID\"] = lambda x:x.iloc[0]\n",
    "custom_aggregation[\"Quantity\"] = \"sum\"\n",
    "custom_aggregation[\"Country\"] = lambda x:x.iloc[0]\n",
    "\n",
    "\n",
    "df_grouped = df_cleaned.groupby(\"InvoiceNo\").agg(custom_aggregation)"
   ]
  },
  {
   "cell_type": "markdown",
   "metadata": {
    "_uuid": "052c6af7c341108383410f6e84d3aeef45254dc9"
   },
   "source": [
    "**2.2 Final dataset grouped by customers**"
   ]
  },
  {
   "cell_type": "code",
   "execution_count": null,
   "metadata": {
    "_uuid": "2f4283813b70f494bc9bbf2936fecb9822a29a57"
   },
   "outputs": [],
   "source": [
    "df2_grouped_final = pd.concat([df_grouped['CustomerID'], df2_grouped], axis=1).set_index(\"CustomerID\").groupby(\"CustomerID\").sum()\n",
    "df2_grouped_final = df2_grouped_final.div(df2_grouped_final.sum(axis=1), axis=0)\n",
    "df2_grouped_final = df2_grouped_final.fillna(0)"
   ]
  },
  {
   "cell_type": "code",
   "execution_count": null,
   "metadata": {
    "_uuid": "ab3cf7172ec68fbc8e69595223028ba3e418c055"
   },
   "outputs": [],
   "source": [
    "custom_aggregation = {}\n",
    "custom_aggregation[\"TotalPrice\"] = ['min','max','mean']\n",
    "custom_aggregation[\"min_recency\"] = lambda x:x.iloc[0]\n",
    "custom_aggregation[\"max_recency\"] = lambda x:x.iloc[0]\n",
    "custom_aggregation[\"frequency\"] = lambda x:x.iloc[0]\n",
    "custom_aggregation[\"monetary_value\"] = lambda x:x.iloc[0]\n",
    "custom_aggregation[\"Quantity\"] = \"sum\"\n",
    "custom_aggregation[\"Country\"] = lambda x:x.iloc[0]\n",
    "\n",
    "df_grouped_final = df_grouped.groupby(\"CustomerID\").agg(custom_aggregation)"
   ]
  },
  {
   "cell_type": "code",
   "execution_count": null,
   "metadata": {
    "_uuid": "46fef12d43a7ea3f26157d2940c6b779be6392ce"
   },
   "outputs": [],
   "source": [
    "df_grouped_final.head(5)"
   ]
  },
  {
   "cell_type": "code",
   "execution_count": null,
   "metadata": {
    "_uuid": "3f42810a3e79e0094294e11f14b1f543a88153cb"
   },
   "outputs": [],
   "source": [
    "df_grouped_final.columns = [\"min\", \"max\", \"mean\", \"min_recency\", \"max_recency\", \"frequency\", \"monetary_value\", \"quantity\", \"country\"]"
   ]
  },
  {
   "cell_type": "code",
   "execution_count": null,
   "metadata": {
    "_uuid": "e520955fa5d074c7a6ae3fde40dfb484fc2462b3"
   },
   "outputs": [],
   "source": [
    "df_grouped_final.head(5)"
   ]
  },
  {
   "cell_type": "code",
   "execution_count": null,
   "metadata": {
    "_uuid": "f9b997b38f241f671028f0034da980c598552b33"
   },
   "outputs": [],
   "source": [
    "df2_grouped_final.head(5)"
   ]
  },
  {
   "cell_type": "markdown",
   "metadata": {
    "_uuid": "541e34c10b675bef8afad254b2146b1443c2045e"
   },
   "source": [
    "**2.3 Clustering customers**"
   ]
  },
  {
   "cell_type": "code",
   "execution_count": null,
   "metadata": {
    "_uuid": "115290a1016517cbd5d3d77bf8a5e6c8dcb0bc68"
   },
   "outputs": [],
   "source": [
    "X1 = df_grouped_final.values()\n",
    "X2 = df2_grouped_final.values()\n",
    "\n",
    "scaler = StandardScaler()\n",
    "X1 = scaler.fit_transform(X1)\n",
    "X_final_std_scale = np.concatenate((X1, X2), axis=1)"
   ]
  },
  {
   "cell_type": "code",
   "execution_count": null,
   "metadata": {
    "_kg_hide-input": true,
    "_uuid": "0063b863dbe437108c09070f37ee0bd2f41c0fbf"
   },
   "outputs": [],
   "source": [
    "x = list(range(2, 12))\n",
    "y_std = []\n",
    "for n_clusters in x:\n",
    "    print(\"n_clusters =\", n_clusters)\n",
    "    \n",
    "    kmeans = KMeans(init='k-means++', n_clusters = n_clusters, n_init=10)\n",
    "    kmeans.fit(X_final_std_scale)\n",
    "    clusters = kmeans.predict(X_final_std_scale)\n",
    "    silhouette_avg = silhouette_score(X_final_std_scale, clusters)\n",
    "    y_std.append(silhouette_avg)\n",
    "    print(\"The average silhouette_score is :\", silhouette_avg, \"with Std Scaling\")"
   ]
  },
  {
   "cell_type": "markdown",
   "metadata": {
    "_uuid": "5ab0b76e560aba15b6d25b668811bcde95ea1413"
   },
   "source": [
    "We want to have at least 5, 6 clusters so we won't take 2 or 3 clusters even though they have the highest silhouette scores, 8 clusters would fit the best here. "
   ]
  },
  {
   "cell_type": "code",
   "execution_count": null,
   "metadata": {
    "_uuid": "1244cfbb538c91bc816d19dff3462a80e22899d8"
   },
   "outputs": [],
   "source": [
    "kmeans = KMeans(init='k-means++', n_clusters = 8, n_init=30, random_state=0)  # random state just to be able to provide cluster number durint analysis\n",
    "kmeans.fit(X_final_std_scale)\n",
    "clusters = kmeans.predict(X_final_std_scale)"
   ]
  },
  {
   "cell_type": "code",
   "execution_count": null,
   "metadata": {
    "_kg_hide-input": true,
    "_uuid": "e2cc4fd558820d1f3b5644627936bc7637db7ef4"
   },
   "outputs": [],
   "source": [
    "plt.figure(figsize = (20,8))\n",
    "n, bins, patches = plt.hist(clusters, bins=8)\n",
    "plt.xlabel(\"Cluster\")\n",
    "plt.title(\"Number of customers per cluster\")\n",
    "plt.xticks([rect.get_x()+ rect.get_width() / 2 for rect in patches], [\"Cluster {}\".format(x) for x in range(8)])\n",
    "\n",
    "for rect in patches:\n",
    "    y_value = rect.get_height()\n",
    "    x_value = rect.get_x() + rect.get_width() / 2\n",
    "\n",
    "    space = 5\n",
    "    va = 'bottom'\n",
    "    label = str(int(y_value))\n",
    "    \n",
    "    plt.annotate(\n",
    "        label,                      \n",
    "        (x_value, y_value),         \n",
    "        xytext=(0, space),          \n",
    "        textcoords=\"offset points\", \n",
    "        ha='center',                \n",
    "        va=va)"
   ]
  },
  {
   "cell_type": "code",
   "execution_count": null,
   "metadata": {
    "_uuid": "b975e03ccb1f2309ddc5bef18df2b494a3661f8d"
   },
   "outputs": [],
   "source": [
    "df_grouped_final[\"cluster\"] = clusters"
   ]
  },
  {
   "cell_type": "code",
   "execution_count": null,
   "metadata": {
    "_uuid": "f978a8cf7a6f5f7f630b2c7d7425f3b94be16193"
   },
   "outputs": [],
   "source": [
    "final_dataset = pd.concat([df_grouped_final, df2_grouped_final], axis = 1)\n",
    "final_dataset.head()"
   ]
  },
  {
   "cell_type": "code",
   "execution_count": null,
   "metadata": {
    "_uuid": "abe75e07173b701a1e5c6aa029587379fbeb4e6a"
   },
   "outputs": [],
   "source": [
    "final_dataset_V2 = final_dataset.reset_index()"
   ]
  },
  {
   "cell_type": "code",
   "execution_count": null,
   "metadata": {
    "_uuid": "67e4e9cd0e6d579fe525353a9a16cc12c44ce339"
   },
   "outputs": [],
   "source": [
    "final_dataset_V2.to_csv(\"final_dataset_V2.csv\",index=False)"
   ]
  },
  {
   "cell_type": "code",
   "execution_count": null,
   "metadata": {
    "_uuid": "1ef70844690856717d840cf54f85db5f4c23317c"
   },
   "outputs": [],
   "source": [
    "with open('df_cleaned.pickle', 'wb') as f:\n",
    "    pickle.dump(df_cleaned, f)"
   ]
  },
  {
   "cell_type": "markdown",
   "metadata": {
    "_uuid": "eca47fed4c0b5237eebf0c8e9d216983a0e20021"
   },
   "source": [
    "**2.3 Interpreting the clusters**"
   ]
  },
  {
   "cell_type": "code",
   "execution_count": null,
   "metadata": {
    "_uuid": "979b5a63039ee87d499937b091c5a54993bc921c"
   },
   "outputs": [],
   "source": [
    "tsne = TSNE(n_components=2)\n",
    "proj = tsne.fit_transform(X_final_std_scale)\n",
    "\n",
    "plt.figure(figsize=(10,10))\n",
    "plt.scatter(proj[:,0], proj[:,1], c=clusters)\n",
    "plt.title(\"Visualization of the clustering with TSNE\", fontsize=\"25\")"
   ]
  },
  {
   "cell_type": "markdown",
   "metadata": {
    "_uuid": "013d752f13cc8a9f414d66489a088298fff80a29"
   },
   "source": [
    "Graphically the clusters are distinctive enough.\n",
    "Let's take a closer look at the clusters that contain few customers."
   ]
  },
  {
   "cell_type": "markdown",
   "metadata": {
    "_uuid": "a6c1f9c9bdb286446b481be5ee9393df1ca6d58c"
   },
   "source": [
    "**2.3.1. Cluster 0**"
   ]
  },
  {
   "cell_type": "code",
   "execution_count": null,
   "metadata": {
    "_kg_hide-output": true,
    "_uuid": "07f9c6a9fc3010126e2e3f9a46f7c99d599d38ea",
    "scrolled": true
   },
   "outputs": [],
   "source": [
    "final_dataset[final_dataset['cluster']==0]"
   ]
  },
  {
   "cell_type": "code",
   "execution_count": null,
   "metadata": {
    "_kg_hide-output": true,
    "_uuid": "9733a9edd396391503568d109c320194f1041d73",
    "scrolled": true
   },
   "outputs": [],
   "source": [
    "final_dataset[final_dataset['cluster']==0].mean()"
   ]
  },
  {
   "cell_type": "code",
   "execution_count": null,
   "metadata": {
    "_uuid": "56561f47a31886f1d12e22241312723dd10277b1"
   },
   "outputs": [],
   "source": [
    "temp_final_df = final_dataset.reset_index()"
   ]
  },
  {
   "cell_type": "code",
   "execution_count": null,
   "metadata": {
    "_uuid": "39a7702d70b0c19a72261591dc96571cabf22a75"
   },
   "outputs": [],
   "source": [
    "cust0 = list(temp_final_df[temp_final_df['cluster']==0]['CustomerID'])"
   ]
  },
  {
   "cell_type": "code",
   "execution_count": null,
   "metadata": {
    "_uuid": "3fe1c13b087dab26d678f04a17354a6db7101cb8"
   },
   "outputs": [],
   "source": [
    "cluster0 = df_cleaned[df_cleaned['CustomerID'].isin(cust0)]\n",
    "cluster0[['Quantity', 'UnitPrice', 'QuantityCanceled', 'TotalPrice', 'frequency', 'min_recency'\n",
    "         , 'monetary_value']].mean()"
   ]
  },
  {
   "cell_type": "code",
   "execution_count": null,
   "metadata": {
    "_uuid": "afb2d7d25ff62251335cadf44a628d4d8cd99cba"
   },
   "outputs": [],
   "source": [
    "cluster0['Description'].value_counts()[:10]"
   ]
  },
  {
   "cell_type": "code",
   "execution_count": null,
   "metadata": {
    "_uuid": "7f120646bf8c140383b31ad98f0fa7dc3a2c374a"
   },
   "outputs": [],
   "source": [
    "custom_aggregation = {}\n",
    "custom_aggregation[\"Country\"] = lambda x:x.iloc[0]\n",
    "custom_aggregation[\"RFMScore\"] = lambda x:x.iloc[0]\n",
    "\n",
    "cluster0_grouped = cluster0.groupby(\"CustomerID\").agg(custom_aggregation)"
   ]
  },
  {
   "cell_type": "code",
   "execution_count": null,
   "metadata": {
    "_kg_hide-output": true,
    "_uuid": "afc3763aac9e0d6ab0e54c43ac7943d640e053c3",
    "scrolled": true
   },
   "outputs": [],
   "source": [
    "cluster0_grouped['RFMScore'].value_counts()"
   ]
  },
  {
   "cell_type": "code",
   "execution_count": null,
   "metadata": {
    "_kg_hide-output": true,
    "_uuid": "9a23e08a6cf734aa8433d3a9598415b365152aa3"
   },
   "outputs": [],
   "source": [
    "cluster0_grouped['Country'].value_counts()"
   ]
  },
  {
   "cell_type": "code",
   "execution_count": null,
   "metadata": {
    "_uuid": "d966240ac222eae9b0b8de598d20ab4905948f0d"
   },
   "outputs": [],
   "source": [
    "cluster0['Month'].value_counts()"
   ]
  },
  {
   "cell_type": "code",
   "execution_count": null,
   "metadata": {
    "_kg_hide-input": true,
    "_uuid": "4b1e3cfb11cbcba6837f48f6de0af30d0984f36b"
   },
   "outputs": [],
   "source": [
    "plt.figure(figsize = (20,8))\n",
    "n, bins, patches = plt.hist(cluster0['Month'], bins=12)\n",
    "plt.xlabel(\"Cluster\")\n",
    "plt.title(\"Number of invoices per month\")\n",
    "plt.xticks([rect.get_x()+ rect.get_width() / 2 for rect in patches], [\"Month {}\".format(x) for x in range(1, 13)])\n",
    "\n",
    "for rect in patches:\n",
    "    y_value = rect.get_height()\n",
    "    x_value = rect.get_x() + rect.get_width() / 2\n",
    "\n",
    "    space = 5\n",
    "    va = 'bottom'\n",
    "    label = str(int(y_value))\n",
    "    \n",
    "    plt.annotate(\n",
    "        label,                      \n",
    "        (x_value, y_value),         \n",
    "        xytext=(0, space),          \n",
    "        textcoords=\"offset points\", \n",
    "        ha='center',                \n",
    "        va=va)"
   ]
  },
  {
   "cell_type": "code",
   "execution_count": null,
   "metadata": {
    "_uuid": "431e606c74626535297e1c4e846b49ba7647e64c"
   },
   "outputs": [],
   "source": [
    "temp['Year'] = cluster0[cluster0['Month']==12]['InvoiceDate'].map(lambda x: x.year)\n",
    "temp['Year'].value_counts()"
   ]
  },
  {
   "cell_type": "code",
   "execution_count": null,
   "metadata": {
    "_kg_hide-input": true,
    "_uuid": "5d9659bc55fafeee91c9a0d3594418a879c94ef7"
   },
   "outputs": [],
   "source": [
    "plt.figure(figsize = (20,8))\n",
    "n, bins, patches = plt.hist(cluster0['Weekday'], bins=7)\n",
    "plt.xlabel(\"Cluster\")\n",
    "plt.title(\"Number of invoices per day of the week\")\n",
    "plt.xticks([rect.get_x()+ rect.get_width() / 2 for rect in patches], [\"Day {}\".format(x) for x in range(0, 7)])\n",
    "\n",
    "for rect in patches:\n",
    "    y_value = rect.get_height()\n",
    "    x_value = rect.get_x() + rect.get_width() / 2\n",
    "\n",
    "    space = 5\n",
    "    va = 'bottom'\n",
    "    label = str(int(y_value))\n",
    "    \n",
    "    plt.annotate(\n",
    "        label,                      \n",
    "        (x_value, y_value),         \n",
    "        xytext=(0, space),          \n",
    "        textcoords=\"offset points\", \n",
    "        ha='center',                \n",
    "        va=va)"
   ]
  },
  {
   "cell_type": "code",
   "execution_count": null,
   "metadata": {
    "_uuid": "a2fd8c8b04c332b32f0e3a4868d03e7f03a6b39f"
   },
   "outputs": [],
   "source": [
    "cluster0['Day'].nunique()"
   ]
  },
  {
   "cell_type": "code",
   "execution_count": null,
   "metadata": {
    "_kg_hide-input": true,
    "_uuid": "94b80dc99c842b2348e0bdcaa68f974cc68b0c50"
   },
   "outputs": [],
   "source": [
    "plt.figure(figsize = (20,8))\n",
    "n, bins, patches = plt.hist(cluster0['Day'], bins=31)\n",
    "plt.xlabel(\"Cluster\")\n",
    "plt.title(\"Number of invoices per day of the month\")\n",
    "plt.xticks([rect.get_x()+ rect.get_width() / 2 for rect in patches], [\"Day {}\".format(x) for x in range(1,32)])\n",
    "\n",
    "for rect in patches:\n",
    "    y_value = rect.get_height()\n",
    "    x_value = rect.get_x() + rect.get_width() / 2\n",
    "\n",
    "    space = 5\n",
    "    va = 'bottom'\n",
    "    label = str(int(y_value))\n",
    "    \n",
    "    plt.annotate(\n",
    "        label,                      \n",
    "        (x_value, y_value),         \n",
    "        xytext=(0, space),          \n",
    "        textcoords=\"offset points\", \n",
    "        ha='center',                \n",
    "        va=va)"
   ]
  },
  {
   "cell_type": "code",
   "execution_count": null,
   "metadata": {
    "_uuid": "e8f5f1c82fb4859973abab53f7336ca9eb5ccdc9"
   },
   "outputs": [],
   "source": [
    "cluster0['Hour'].nunique()"
   ]
  },
  {
   "cell_type": "code",
   "execution_count": null,
   "metadata": {
    "_kg_hide-input": true,
    "_uuid": "cd45f45bdedb445b9bb5ec25d1a592c0a9478c1b"
   },
   "outputs": [],
   "source": [
    "plt.figure(figsize = (20,8))\n",
    "n, bins, patches = plt.hist(cluster0['Hour'], bins=14)\n",
    "plt.xlabel(\"Cluster\")\n",
    "plt.title(\"Number of invoices per hour of the day\")\n",
    "plt.xticks([rect.get_x()+ rect.get_width() / 2 for rect in patches], [\"Hour {}\".format(x) for x in (sorted(cluster0['Hour'].unique()))])\n",
    "\n",
    "for rect in patches:\n",
    "    y_value = rect.get_height()\n",
    "    x_value = rect.get_x() + rect.get_width() / 2\n",
    "\n",
    "    space = 5\n",
    "    va = 'bottom'\n",
    "    label = str(int(y_value))\n",
    "    \n",
    "    plt.annotate(\n",
    "        label,                      \n",
    "        (x_value, y_value),         \n",
    "        xytext=(0, space),          \n",
    "        textcoords=\"offset points\", \n",
    "        ha='center',                \n",
    "        va=va)"
   ]
  },
  {
   "cell_type": "markdown",
   "metadata": {
    "_uuid": "128e897b27d8d2fd0a16e73b0a2b7516f3de7f86"
   },
   "source": [
    "These customers seems to be good for datazone since they have good RFM scores, the 4 most represented categories are (111, 211, 322, 222). They seem to be normal customers. \n",
    "\n",
    "\n",
    "Key figures: \n",
    "* Min Basket Price: 10.86\n",
    "* Mean Basket Price: 30.60\n",
    "* Max Basket Price: 68.57\n",
    "\n",
    "* Quantity:            10.00\n",
    "* UnitPrice:           2.87\n",
    "* QuantityCanceled:     0.04\n",
    "* TotalPrice:           17.09\n",
    "* Frequency           11.134050\n",
    "* Recency         24.574626\n",
    "\n",
    "TOP 10 bought products :\n",
    "\n",
    "* WHITE HANGING HEART T-LIGHT HOLDER:    1345\n",
    "* JUMBO BAG RED RETROSPOT:               1079\n",
    "* REGENCY CAKESTAND 3 TIER:               960\n",
    "* ASSORTED COLOUR BIRD ORNAMENT:          926\n",
    "* PARTY BUNTING:                          924\n",
    "* LUNCH BAG RED RETROSPOT:                898\n",
    "* LUNCH BAG  BLACK SKULL:                753\n",
    "* SET OF 3 CAKE TINS PANTRY DESIGN:       725\n",
    "* LUNCH BAG CARS BLUE:                    679\n",
    "* LUNCH BAG PINK POLKADOT:                676"
   ]
  },
  {
   "cell_type": "markdown",
   "metadata": {
    "_uuid": "c5668e0fe54e05a0393d44241b481f0d361d1086"
   },
   "source": [
    "**2.4.2 Cluster 1**"
   ]
  },
  {
   "cell_type": "markdown",
   "metadata": {
    "_uuid": "633aeae13e7942012b3dd46d02db204903b7a707"
   },
   "source": [
    "I already have done all the same analysis for the other clusters, so I won't put all of the code here but the idea is the same"
   ]
  },
  {
   "cell_type": "markdown",
   "metadata": {
    "_uuid": "d9ff2f1c984d30fe1e804c22db183f42b940ed62"
   },
   "source": [
    "This cluster represents almost lost customers. The weird part about them is that there are some months when they didn't shop at all, it looks like a pattern. \n",
    "\n",
    "\n",
    "Key figures: \n",
    "* Min Basket Price: 20.83\n",
    "* Mean Basket Price: 33.77\n",
    "* Max Basket Price: 26.43\n",
    "\n",
    "* Quantity:            9.06\n",
    "* UnitPrice:           2.68\n",
    "* QuantityCanceled:     0.02\n",
    "* TotalPrice:           13.77\n",
    "* Frequency            3.065758\n",
    "* Recency         36.131902\n",
    "\n",
    "TOP 10 bought products :\n",
    "\n",
    "* PAPER CHAIN KIT 50'S CHRISTMAS:        267\n",
    "* BAKING SET 9 PIECE RETROSPOT:          263\n",
    "* WHITE HANGING HEART T-LIGHT HOLDER:    250\n",
    "* ASSORTED COLOUR BIRD ORNAMENT:         247\n",
    "* REX CASH+CARRY JUMBO SHOPPER:          223\n",
    "* HOT WATER BOTTLE KEEP CALM:            215\n",
    "* REGENCY CAKESTAND 3 TIER:              208\n",
    "* RABBIT NIGHT LIGHT:                    200\n",
    "* GARDENERS KNEELING PAD KEEP CALM:      194\n",
    "* SPOTTY BUNTING:                        193"
   ]
  },
  {
   "cell_type": "markdown",
   "metadata": {
    "_uuid": "9b781cf4b457a7a5383fd8bdd09d017d2e7f2843"
   },
   "source": [
    "**2.4.3 Cluster 2**"
   ]
  },
  {
   "cell_type": "markdown",
   "metadata": {
    "_uuid": "79ab8326b063c4ec669d06f7dd070aa9a1e43623"
   },
   "source": [
    "The cluster 2 represents the best customers with a high recency which have around 60 visits, a lot of quantity bought on average, a high moneraty value and also a high frequency around 60 visits. These customers must be taken care.\n",
    "* Min Basket Price : 13\n",
    "* Mean Basket Price : 513\n",
    "* Max Basket Price : 3812\n",
    "* Quantity            117.083422\n",
    "* UnitPrice             2.830180\n",
    "* QuantityCanceled      0.069282\n",
    "* TotalPrice          258.683970\n",
    "* frequency            67.812655\n",
    "* min_recency           1.679039"
   ]
  },
  {
   "cell_type": "markdown",
   "metadata": {
    "_uuid": "a048f924b33e2b33e0f66b0cb3a05c352faf959b"
   },
   "source": [
    "**2.4.4 Cluster 3**"
   ]
  },
  {
   "cell_type": "markdown",
   "metadata": {
    "_uuid": "6417837064c270308b9984e7d23bf13019687061"
   },
   "source": [
    "This cluster is full of lost customers. Indeed, as we can see in the month histogramm there are almost no invoices after july. We can see that there are in december but it's december of the past year. So this cluster is pretty bad for datazone, they don't want to have new customers in there. Furthermore they are cheap customers since the mean basket price is 28.91$ ... \n",
    "\n",
    "\n",
    "\n",
    "Key figures: \n",
    "* Min Basket Price: 24.20\n",
    "* Mean Basket Price: 28.91\n",
    "* Max Basket Price: 34.52\n",
    "\n",
    "* Quantity:            8.25\n",
    "* UnitPrice:           3.29\n",
    "* QuantityCanceled:     0.04\n",
    "* TotalPrice:          15.20\n",
    "* Frequency             2.606359\n",
    "* Recency         237.013433\n",
    "\n",
    "TOP 10 bought products :\n",
    "\n",
    "* WHITE HANGING HEART T-LIGHT HOLDER:    227\n",
    "* REGENCY CAKESTAND 3 TIER:              182\n",
    "* PARTY BUNTING:                         137\n",
    "* ASSORTED COLOUR BIRD ORNAMENT:         125\n",
    "* REX CASH+CARRY JUMBO SHOPPER:          103\n",
    "* SET OF 3 CAKE TINS PANTRY DESIGN:      100\n",
    "* NATURAL SLATE HEART CHALKBOARD:        100\n",
    "* JAM MAKING SET WITH JARS:               99\n",
    "* HEART OF WICKER SMALL:                  98\n",
    "* HEART OF WICKER LARGE:                  86"
   ]
  },
  {
   "cell_type": "markdown",
   "metadata": {
    "_uuid": "d29e1dc775bb1dcb54b89a62a2ebbd0f23a9372c"
   },
   "source": [
    "**2.4.5 Cluster 4**"
   ]
  },
  {
   "cell_type": "markdown",
   "metadata": {
    "_uuid": "6ac64a71606c801e7d6b678b50cc91bde62b48e5"
   },
   "source": [
    "This cluster is quiete heterogeneous since there are 17 best customers, 6 lost cheap customers and so on. They do have a high mean basket price of 505 but it's mostly due to the mean quantity they buy (130) because the mean unit price is very low (3.26)\n",
    "\n",
    "For the time features, what is interesting is that these customers shop less on weekend and they shopped more at the end of the year.\n",
    "\n",
    "* Min Basket Price : 247\n",
    "* Mean Basket Price : 505\n",
    "* Max Basket Price : 1023\n",
    "* Quantity            130.299145\n",
    "* UnitPrice             3.264359\n",
    "* QuantityCanceled      2.332590\n",
    "* TotalPrice          184.308595\n",
    "\n",
    "TOP 10 products bought :\n",
    "\n",
    "* JUMBO BAG RED RETROSPOT :               38\n",
    "* BLACK RECORD COVER FRAME :            31\n",
    "* RECORD FRAME 7\" SINGLE SIZE :         28\n",
    "* REGENCY CAKESTAND 3 TIER :           25\n",
    "* WORLD WAR 2 GLIDERS ASSTD DESIGNS :    24\n",
    "* WHITE HANGING HEART T-LIGHT HOLDER :   24\n",
    "* PARTY BUNTING :                        24\n",
    "* LUNCH BOX I LOVE LONDON :               23\n",
    "* RED  HARMONICA IN BOX :                23\n",
    "* CHILLI LIGHTS :                        23"
   ]
  },
  {
   "cell_type": "markdown",
   "metadata": {
    "_uuid": "b0abb5976f1eb95b4e339d1baaceaf1f81ba771a"
   },
   "source": [
    "**2.4.6 Cluster 5**"
   ]
  },
  {
   "cell_type": "markdown",
   "metadata": {
    "_uuid": "e337e00e417a9bb81aa7554f4fadfde442fc2cdd"
   },
   "source": [
    "The cluster 5 contains 3 customers which are very much alike. Indeed, they bought only once or twice a few items at a huge quantity. It might be some profesionnals which bought it at discount and will sell back the commodity. Even if they have a high monetary value they're not very interesting for Datazon and we could consider them as lost customers.\n",
    "* Min Basket Price : 3368\n",
    "* Mean Basket Price : 3697\n",
    "* Max Basket Price : 3533\n",
    "* Quantity            2213.777778\n",
    "* UnitPrice              2.386667\n",
    "* QuantityCanceled       0.000000\n",
    "* TotalPrice          3890.091111\n",
    "* Frequency              1.666667\n",
    "* Min_recency          210.888889"
   ]
  },
  {
   "cell_type": "markdown",
   "metadata": {
    "_uuid": "8a1c05ba65bf130d88ae2ca0cd2b01dbe677bf9e"
   },
   "source": [
    "**2.4.7 Cluster 6**"
   ]
  },
  {
   "cell_type": "markdown",
   "metadata": {
    "_uuid": "5e5fb3215015561853b9a23cf065b4c0edd3cb3a"
   },
   "source": [
    "What is very specific about this cluster is that there are no customers from UK, it's only foreign countries (Germany, France, Belgium, Italy and Finland).\n",
    "This cluster is also heterogeneous in terms of RFM since the 2 most represented categories are Best customer and Lost cheap customer. The average basket is very low (33) comparing the ones above but I guess that the more customers we have in a cluster and the more the average customer will be represented which doesn't spent 500$ per transactions like the ones above. \n",
    "\n",
    "October and november have the most invoices which isn't surpring approaching Christmas. \n",
    "\n",
    "Key figures: \n",
    "* Min Basket Price: 20.58\n",
    "* Mean Basket Price: 33.55\n",
    "* Max Basket Price: 59.31\n",
    "\n",
    "* Quantity:            13.785663\n",
    "* UnitPrice:           2.884687\n",
    "* QuantityCanceled:     0.057975\n",
    "* TotalPrice:          23.749951\n",
    "* Frequency            7.865563\n",
    "* Recency         46.622343\n",
    "\n",
    "TOP 10 bought products :\n",
    "\n",
    "* ROUND SNACK BOXES SET OF4 WOODLAND:     233\n",
    "* REGENCY CAKESTAND 3 TIER:               161\n",
    "* PLASTERS IN TIN WOODLAND ANIMALS:       150\n",
    "* ROUND SNACK BOXES SET OF 4 FRUITS:      146\n",
    "* RED TOADSTOOL LED NIGHT LIGHT:          144\n",
    "* PLASTERS IN TIN CIRCUS PARADE:          141\n",
    "* SPACEBOY LUNCH BOX:                     137\n",
    "* RABBIT NIGHT LIGHT:                     120\n",
    "* PLASTERS IN TIN SPACEBOY:               120\n",
    "* WOODLAND CHARLOTTE BAG:                 111"
   ]
  },
  {
   "cell_type": "markdown",
   "metadata": {
    "_uuid": "96e3029d6cd8990924a1fae7ca78fbfde68f2549"
   },
   "source": [
    "**2.4.8 Cluster 7**"
   ]
  },
  {
   "cell_type": "markdown",
   "metadata": {
    "_uuid": "1c3c728debd8d70cae7b02d86572dda53513a65f"
   },
   "source": [
    "The cluster 7 contains 19 customers who are considered as best customers since they by the most, very frequently (75) and recently. The difference with cluster 2 is that they cluster 7's customers buy more frequently (75 vs 60) but have a lower monetary value (58000 vs 249000).\n",
    "They have a mean basket price lower than the other clusters.\n",
    "\n",
    "* Min Basket Price : 10\n",
    "* Mean Basket Price : 138\n",
    "* Max Basket Price : 648\n",
    "* Quantity            23.257769\n",
    "* UnitPrice            2.615444\n",
    "* QuantityCanceled     0.109129\n",
    "* TotalPrice          34.916436\n",
    "* Frequency           121.570291\n",
    "* Recency           2.599109\n",
    "\n",
    "TOP 10 products bought :\n",
    "\n",
    "* REGENCY CAKESTAND 3 TIER:              136\n",
    "* JUMBO BAG RED RETROSPOT:               135\n",
    "* WHITE HANGING HEART T-LIGHT HOLDER:    121\n",
    "* CHILLI LIGHTS:                         102\n",
    "* PAPER BUNTING RETROSPOT:                97\n",
    "* LUNCH BAG  BLACK SKULL:                95\n",
    "* GUMBALL COAT RACK:                      93\n",
    "* LUNCH BAG RED RETROSPOT:                91\n",
    "* JUMBO BAG PINK POLKADOT:                84\n",
    "* LUNCH BAG CARS BLUE:                    81"
   ]
  },
  {
   "cell_type": "markdown",
   "metadata": {
    "_uuid": "1f2b525baef9cf1ce47ccadb7b5b1dbea7380d97"
   },
   "source": [
    "**2.4.9 Conclusion**"
   ]
  },
  {
   "cell_type": "markdown",
   "metadata": {
    "_uuid": "748c7f2fc090466c6ed971e47d964f3cb5767786"
   },
   "source": [
    "Let's quickly classify the clusters in terms of importance to Datazon :\n",
    "\n",
    "- Cluster 2: high frequency with a lot of quantity (mean basket price of 513) bought on average and high monetary value (VIP clients)\n",
    "- Cluster 7 : very high purchase frequency with a mean basket price of 150 but good monetary value.\n",
    "- Cluster 4: very high basket price (huge quantity of products bought on average)\n",
    "- Cluster 0: good average customers \n",
    "- Cluster 6: good foreign customers \n",
    "- Cluster 1: almost lost customers\n",
    "- Cluster 5: highest monetary value but only one or two purchases over the year \n",
    "- Cluster 3: lost customers "
   ]
  },
  {
   "cell_type": "markdown",
   "metadata": {
    "_uuid": "adafb99b2429d31ea36189312c37dda4efe6013d"
   },
   "source": []
  },
  {
   "cell_type": "markdown",
   "metadata": {
    "_uuid": "bc9feae029869b031ab9ca153c698b7c4977c95c"
   },
   "source": [
    "![](http://)"
   ]
  }
 ],
 "metadata": {
  "kernelspec": {
   "display_name": "Python 3",
   "language": "python",
   "name": "python3"
  },
  "language_info": {
   "codemirror_mode": {
    "name": "ipython",
    "version": 3
   },
   "file_extension": ".py",
   "mimetype": "text/x-python",
   "name": "python",
   "nbconvert_exporter": "python",
   "pygments_lexer": "ipython3",
   "version": "3.9.0"
  }
 },
 "nbformat": 4,
 "nbformat_minor": 4
}
